{
 "cells": [
  {
   "cell_type": "code",
   "execution_count": 2,
   "id": "759aa563",
   "metadata": {},
   "outputs": [
    {
     "name": "stderr",
     "output_type": "stream",
     "text": [
      "INFO:Sampler:Parallelizing the sampling on 8 cores.\n",
      "INFO:History:Start <ABCSMC(id=17, start_time=2022-03-10 14:23:48.516408, end_time=None)>\n",
      "INFO:ABC:Calibration sample before t=0.\n",
      "INFO:ABC:t: 0, eps: 10491904427.868792.\n",
      "INFO:ABC:Acceptance rate: 1000 / 3397 = 2.9438e-01, ESS=1.0000e+03.\n",
      "INFO:ABC:t: 1, eps: 32782399.948240537.\n",
      "INFO:ABC:Acceptance rate: 1000 / 81804 = 1.2224e-02, ESS=8.3423e+02.\n",
      "INFO:ABC:t: 2, eps: 102429.99769534693.\n"
     ]
    },
    {
     "ename": "ProcessError",
     "evalue": "At least one worker is dead.",
     "output_type": "error",
     "traceback": [
      "\u001b[0;31m---------------------------------------------------------------------------\u001b[0m",
      "\u001b[0;31mEmpty\u001b[0m                                     Traceback (most recent call last)",
      "\u001b[0;32m~/opt/anaconda3/lib/python3.7/site-packages/pyabc/sampler/multicorebase.py\u001b[0m in \u001b[0;36mget_if_worker_healthy\u001b[0;34m(workers, queue)\u001b[0m\n\u001b[1;32m     99\u001b[0m         \u001b[0;32mtry\u001b[0m\u001b[0;34m:\u001b[0m\u001b[0;34m\u001b[0m\u001b[0;34m\u001b[0m\u001b[0m\n\u001b[0;32m--> 100\u001b[0;31m             \u001b[0mitem\u001b[0m \u001b[0;34m=\u001b[0m \u001b[0mqueue\u001b[0m\u001b[0;34m.\u001b[0m\u001b[0mget\u001b[0m\u001b[0;34m(\u001b[0m\u001b[0;32mTrue\u001b[0m\u001b[0;34m,\u001b[0m \u001b[0;36m5\u001b[0m\u001b[0;34m)\u001b[0m\u001b[0;34m\u001b[0m\u001b[0;34m\u001b[0m\u001b[0m\n\u001b[0m\u001b[1;32m    101\u001b[0m             \u001b[0;32mreturn\u001b[0m \u001b[0mitem\u001b[0m\u001b[0;34m\u001b[0m\u001b[0;34m\u001b[0m\u001b[0m\n",
      "\u001b[0;32m~/opt/anaconda3/lib/python3.7/multiprocessing/queues.py\u001b[0m in \u001b[0;36mget\u001b[0;34m(self, block, timeout)\u001b[0m\n\u001b[1;32m    104\u001b[0m                     \u001b[0;32mif\u001b[0m \u001b[0;32mnot\u001b[0m \u001b[0mself\u001b[0m\u001b[0;34m.\u001b[0m\u001b[0m_poll\u001b[0m\u001b[0;34m(\u001b[0m\u001b[0mtimeout\u001b[0m\u001b[0;34m)\u001b[0m\u001b[0;34m:\u001b[0m\u001b[0;34m\u001b[0m\u001b[0;34m\u001b[0m\u001b[0m\n\u001b[0;32m--> 105\u001b[0;31m                         \u001b[0;32mraise\u001b[0m \u001b[0mEmpty\u001b[0m\u001b[0;34m\u001b[0m\u001b[0;34m\u001b[0m\u001b[0m\n\u001b[0m\u001b[1;32m    106\u001b[0m                 \u001b[0;32melif\u001b[0m \u001b[0;32mnot\u001b[0m \u001b[0mself\u001b[0m\u001b[0;34m.\u001b[0m\u001b[0m_poll\u001b[0m\u001b[0;34m(\u001b[0m\u001b[0;34m)\u001b[0m\u001b[0;34m:\u001b[0m\u001b[0;34m\u001b[0m\u001b[0;34m\u001b[0m\u001b[0m\n",
      "\u001b[0;31mEmpty\u001b[0m: ",
      "\nDuring handling of the above exception, another exception occurred:\n",
      "\u001b[0;31mProcessError\u001b[0m                              Traceback (most recent call last)",
      "\u001b[0;32m<ipython-input-2-14f6fe4b1c01>\u001b[0m in \u001b[0;36m<module>\u001b[0;34m\u001b[0m\n\u001b[1;32m    134\u001b[0m \u001b[0mabc\u001b[0m \u001b[0;34m=\u001b[0m \u001b[0mpyabc\u001b[0m\u001b[0;34m.\u001b[0m\u001b[0mABCSMC\u001b[0m\u001b[0;34m(\u001b[0m\u001b[0mdeterministic_run\u001b[0m\u001b[0;34m,\u001b[0m \u001b[0mparameter_prior\u001b[0m\u001b[0;34m,\u001b[0m \u001b[0mkernel\u001b[0m\u001b[0;34m,\u001b[0m \u001b[0meps\u001b[0m\u001b[0;34m=\u001b[0m\u001b[0meps\u001b[0m\u001b[0;34m,\u001b[0m \u001b[0macceptor\u001b[0m\u001b[0;34m=\u001b[0m\u001b[0macceptor\u001b[0m\u001b[0;34m,\u001b[0m\u001b[0mpopulation_size\u001b[0m\u001b[0;34m=\u001b[0m\u001b[0;36m1000\u001b[0m\u001b[0;34m)\u001b[0m\u001b[0;34m\u001b[0m\u001b[0;34m\u001b[0m\u001b[0m\n\u001b[1;32m    135\u001b[0m \u001b[0mabc\u001b[0m\u001b[0;34m.\u001b[0m\u001b[0mnew\u001b[0m\u001b[0;34m(\u001b[0m\u001b[0mdb_path\u001b[0m\u001b[0;34m,\u001b[0m\u001b[0;34m{\u001b[0m\u001b[0;34m\"Contamination\"\u001b[0m\u001b[0;34m:\u001b[0m \u001b[0mmeasurement_data\u001b[0m\u001b[0;34m}\u001b[0m\u001b[0;34m)\u001b[0m \u001b[0;31m#This distance model assumes the name of the predicited and confirmed are the same\u001b[0m\u001b[0;34m\u001b[0m\u001b[0;34m\u001b[0m\u001b[0m\n\u001b[0;32m--> 136\u001b[0;31m \u001b[0mhistory_acceptor\u001b[0m \u001b[0;34m=\u001b[0m \u001b[0mabc\u001b[0m\u001b[0;34m.\u001b[0m\u001b[0mrun\u001b[0m\u001b[0;34m(\u001b[0m\u001b[0mmax_nr_populations\u001b[0m\u001b[0;34m=\u001b[0m\u001b[0;36m5\u001b[0m\u001b[0;34m,\u001b[0m\u001b[0mminimum_epsilon\u001b[0m\u001b[0;34m=\u001b[0m\u001b[0;36m100\u001b[0m\u001b[0;34m)\u001b[0m\u001b[0;34m\u001b[0m\u001b[0;34m\u001b[0m\u001b[0m\n\u001b[0m\u001b[1;32m    137\u001b[0m \u001b[0;34m\u001b[0m\u001b[0m\n\u001b[1;32m    138\u001b[0m \u001b[0;34m\u001b[0m\u001b[0m\n",
      "\u001b[0;32m~/opt/anaconda3/lib/python3.7/site-packages/pyabc/smc.py\u001b[0m in \u001b[0;36mrun\u001b[0;34m(self, minimum_epsilon, max_nr_populations, min_acceptance_rate)\u001b[0m\n\u001b[1;32m    888\u001b[0m             \u001b[0mlogger\u001b[0m\u001b[0;34m.\u001b[0m\u001b[0mdebug\u001b[0m\u001b[0;34m(\u001b[0m\u001b[0;34mf\"Now submitting population {t}.\"\u001b[0m\u001b[0;34m)\u001b[0m\u001b[0;34m\u001b[0m\u001b[0;34m\u001b[0m\u001b[0m\n\u001b[1;32m    889\u001b[0m             sample = self.sampler.sample_until_n_accepted(\n\u001b[0;32m--> 890\u001b[0;31m                 pop_size, simulate_one, max_eval)\n\u001b[0m\u001b[1;32m    891\u001b[0m \u001b[0;34m\u001b[0m\u001b[0m\n\u001b[1;32m    892\u001b[0m             \u001b[0;31m# check sample health\u001b[0m\u001b[0;34m\u001b[0m\u001b[0;34m\u001b[0m\u001b[0;34m\u001b[0m\u001b[0m\n",
      "\u001b[0;32m~/opt/anaconda3/lib/python3.7/site-packages/pyabc/sampler/base.py\u001b[0m in \u001b[0;36msample_until_n_accepted\u001b[0;34m(self, n, simulate_one, max_eval, all_accepted)\u001b[0m\n\u001b[1;32m    149\u001b[0m     def sample_until_n_accepted(\n\u001b[1;32m    150\u001b[0m             self, n, simulate_one, max_eval=np.inf, all_accepted=False):\n\u001b[0;32m--> 151\u001b[0;31m         \u001b[0msample\u001b[0m \u001b[0;34m=\u001b[0m \u001b[0mf\u001b[0m\u001b[0;34m(\u001b[0m\u001b[0mself\u001b[0m\u001b[0;34m,\u001b[0m \u001b[0mn\u001b[0m\u001b[0;34m,\u001b[0m \u001b[0msimulate_one\u001b[0m\u001b[0;34m,\u001b[0m \u001b[0mmax_eval\u001b[0m\u001b[0;34m,\u001b[0m \u001b[0mall_accepted\u001b[0m\u001b[0;34m)\u001b[0m\u001b[0;34m\u001b[0m\u001b[0;34m\u001b[0m\u001b[0m\n\u001b[0m\u001b[1;32m    152\u001b[0m         \u001b[0;32mif\u001b[0m \u001b[0msample\u001b[0m\u001b[0;34m.\u001b[0m\u001b[0mn_accepted\u001b[0m \u001b[0;34m!=\u001b[0m \u001b[0mn\u001b[0m \u001b[0;32mand\u001b[0m \u001b[0msample\u001b[0m\u001b[0;34m.\u001b[0m\u001b[0mok\u001b[0m\u001b[0;34m:\u001b[0m\u001b[0;34m\u001b[0m\u001b[0;34m\u001b[0m\u001b[0m\n\u001b[1;32m    153\u001b[0m             \u001b[0;31m# this should not happen if the sampler is configured correctly\u001b[0m\u001b[0;34m\u001b[0m\u001b[0;34m\u001b[0m\u001b[0;34m\u001b[0m\u001b[0m\n",
      "\u001b[0;32m~/opt/anaconda3/lib/python3.7/site-packages/pyabc/sampler/multicore_evaluation_parallel.py\u001b[0m in \u001b[0;36msample_until_n_accepted\u001b[0;34m(self, n, simulate_one, max_eval, all_accepted)\u001b[0m\n\u001b[1;32m    119\u001b[0m         \u001b[0mn_done\u001b[0m \u001b[0;34m=\u001b[0m \u001b[0;36m0\u001b[0m\u001b[0;34m\u001b[0m\u001b[0;34m\u001b[0m\u001b[0m\n\u001b[1;32m    120\u001b[0m         \u001b[0;32mwhile\u001b[0m \u001b[0mn_done\u001b[0m \u001b[0;34m<\u001b[0m \u001b[0mlen\u001b[0m\u001b[0;34m(\u001b[0m\u001b[0mprocesses\u001b[0m\u001b[0;34m)\u001b[0m\u001b[0;34m:\u001b[0m\u001b[0;34m\u001b[0m\u001b[0;34m\u001b[0m\u001b[0m\n\u001b[0;32m--> 121\u001b[0;31m             \u001b[0mval\u001b[0m \u001b[0;34m=\u001b[0m \u001b[0mget_if_worker_healthy\u001b[0m\u001b[0;34m(\u001b[0m\u001b[0mprocesses\u001b[0m\u001b[0;34m,\u001b[0m \u001b[0mqueue\u001b[0m\u001b[0;34m)\u001b[0m\u001b[0;34m\u001b[0m\u001b[0;34m\u001b[0m\u001b[0m\n\u001b[0m\u001b[1;32m    122\u001b[0m             \u001b[0;32mif\u001b[0m \u001b[0mval\u001b[0m \u001b[0;34m==\u001b[0m \u001b[0mDONE\u001b[0m\u001b[0;34m:\u001b[0m\u001b[0;34m\u001b[0m\u001b[0;34m\u001b[0m\u001b[0m\n\u001b[1;32m    123\u001b[0m                 \u001b[0mn_done\u001b[0m \u001b[0;34m+=\u001b[0m \u001b[0;36m1\u001b[0m\u001b[0;34m\u001b[0m\u001b[0;34m\u001b[0m\u001b[0m\n",
      "\u001b[0;32m~/opt/anaconda3/lib/python3.7/site-packages/pyabc/sampler/multicorebase.py\u001b[0m in \u001b[0;36mget_if_worker_healthy\u001b[0;34m(workers, queue)\u001b[0m\n\u001b[1;32m    102\u001b[0m         \u001b[0;32mexcept\u001b[0m \u001b[0mEmpty\u001b[0m\u001b[0;34m:\u001b[0m\u001b[0;34m\u001b[0m\u001b[0;34m\u001b[0m\u001b[0m\n\u001b[1;32m    103\u001b[0m             \u001b[0;32mif\u001b[0m \u001b[0;32mnot\u001b[0m \u001b[0mhealthy\u001b[0m\u001b[0;34m(\u001b[0m\u001b[0mworkers\u001b[0m\u001b[0;34m)\u001b[0m\u001b[0;34m:\u001b[0m\u001b[0;34m\u001b[0m\u001b[0;34m\u001b[0m\u001b[0m\n\u001b[0;32m--> 104\u001b[0;31m                 \u001b[0;32mraise\u001b[0m \u001b[0mProcessError\u001b[0m\u001b[0;34m(\u001b[0m\u001b[0;34m\"At least one worker is dead.\"\u001b[0m\u001b[0;34m)\u001b[0m\u001b[0;34m\u001b[0m\u001b[0;34m\u001b[0m\u001b[0m\n\u001b[0m\u001b[1;32m    105\u001b[0m     \u001b[0;32mraise\u001b[0m \u001b[0mException\u001b[0m\u001b[0;34m(\u001b[0m\u001b[0;34m\"The code should never reach here\"\u001b[0m\u001b[0;34m)\u001b[0m\u001b[0;34m\u001b[0m\u001b[0;34m\u001b[0m\u001b[0m\n",
      "\u001b[0;31mProcessError\u001b[0m: At least one worker is dead."
     ]
    }
   ],
   "source": [
    "#!/usr/bin/env python3\n",
    "# -*- coding: utf-8 -*-\n",
    "\"\"\"\n",
    "Created on Sun Jun 22 18:22:52 2020\n",
    "\n",
    "@author: marcofking\n",
    "\"\"\"\n",
    "\n",
    "\n",
    "import pyabc as pyabc\n",
    "from pyabc import (ABCSMC,\n",
    "                   RV, Distribution,\n",
    "                   MedianEpsilon,\n",
    "                   LocalTransition)\n",
    "from pyabc.visualization import plot_kde_2d, plot_data_callback\n",
    "import matplotlib.pyplot as plt\n",
    "import os\n",
    "import tempfile\n",
    "import numpy as np\n",
    "#import scipy as sp\n",
    "from scipy.integrate import odeint\n",
    "import math\n",
    "db_path = (\"sqlite:///\" +\n",
    "           os.path.join(tempfile.gettempdir(), \"test3.db\"))\n",
    "\n",
    "\n",
    "initial_contamination=1200\n",
    "measurement_data = np.array([134,202,294,400,644,1232,2044,2868])\n",
    "s=np.array([93.70165,86.13942,162.11107,116.61904,123.61230,396.88789,628.87201,1147.13556])\n",
    "precision=5000\n",
    "\n",
    "\n",
    "measurement_times = np.array([2,4,6,16,18,20,22,24])#np.arange(len(measurement_data))  \n",
    "\n",
    "\n",
    "\n",
    "def Distance(simulation, data):\n",
    "    return np.absolute((data[\"Contamination\"] - simulation[\"Contamination\"])/data[\"sd\"]).sum()\n",
    "\n",
    "# def Distance(x,y,s):\n",
    "\n",
    "#     # computes the Euclidean distance between two lists of the same length\n",
    "\n",
    "#     if len(x) == len(y):\n",
    "\n",
    "#         return math.sqrt(sum([(((x[i]-y[i])/s[i])**2) for i in range(len(x))]))\n",
    "\n",
    "#     else:\n",
    "\n",
    "#         return 100.00\n",
    "\n",
    "\n",
    "def ode_model(contamination,t,r,C,d,g):\n",
    "    Contamination = contamination;\n",
    "    return(r*(1-Contamination/C)-d*math.exp(-g*t)*Contamination)\n",
    "\n",
    "# No Noise\n",
    "def deterministic_run_NONOISE(parameters):#precision,initial_contamination,r,C,d,g):\n",
    "    precision=5000\n",
    "    tmax = 24\n",
    "    time_space = np.linspace(0,tmax,precision+1)\n",
    "    sim=odeint(ode_model,initial_contamination,time_space,args=(parameters[\"r\"],parameters[\"C\"],parameters[\"d\"],parameters[\"g\"]))\n",
    "    #num_at_0=sim[int(precision*0.1/50.0)]\n",
    "    num_at_1=sim[int(precision*1/50.0)]\n",
    "    num_at_2=sim[int(precision*2/50.0)]\n",
    "    num_at_4=sim[int(precision*4/50.0)]\n",
    "    num_at_6=sim[int(precision*6/50.0)]\n",
    "    num_at_16=sim[int(precision*16/50.0)]\n",
    "    num_at_18=sim[int(precision*18/50.0)]\n",
    "    num_at_20=sim[int(precision*20/50.0)]\n",
    "    num_at_22=sim[int(precision*22/50.0)]\n",
    "    num_at_24=sim[int(precision*24/50.0)]\n",
    "    return{\"Contamination\":[num_at_1,num_at_2,num_at_4,num_at_6,num_at_16,num_at_18,num_at_20,num_at_22,num_at_24]}\n",
    "\n",
    "def deterministic_run(parameters):#precision,initial_contamination,r,C,d,g):\n",
    "    precision=5000\n",
    "    tmax = 24\n",
    "    time_space = np.linspace(0,tmax,precision+1)\n",
    "    sim=odeint(ode_model,initial_contamination,time_space,args=(parameters[\"r\"],parameters[\"C\"],parameters[\"d\"],parameters[\"g\"]))\n",
    "    #num_at_0=sim[int(precision*0.1/50.0)]\n",
    "    #num_at_1=sim[int(precision*1/50.0)]\n",
    "    num_at_2=sim[int(precision*2/50.0)]\n",
    "    num_at_4=sim[int(precision*4/50.0)]\n",
    "    num_at_6=sim[int(precision*6/50.0)]\n",
    "    num_at_16=sim[int(precision*16/50.0)]\n",
    "    num_at_18=sim[int(precision*18/50.0)]\n",
    "    num_at_20=sim[int(precision*20/50.0)]\n",
    "    num_at_22=sim[int(precision*22/50.0)]\n",
    "    num_at_24=sim[int(precision*24/50.0)]\n",
    "    #return{\"Contamination\":[num_at_2,num_at_4,num_at_6,num_at_16,num_at_18,num_at_20,num_at_22,num_at_24]+ sigma*np.random.randn(8)}\n",
    "    return{\"Contamination\":[num_at_2,num_at_4,num_at_6,num_at_16,num_at_18,num_at_20,num_at_22,num_at_24]}\n",
    "# def f(y, t0, theta1, theta2):\n",
    "#     x1, x2 = y\n",
    "#     dx1 = - theta1 * x1 + theta2 * x2\n",
    "#     dx2 =   theta1 * x1 - theta2 * x2\n",
    "#     return dx1, dx2\n",
    "    \n",
    "# def model(pars):\n",
    "#     sol = sp.integrate.odeint(\n",
    "#              f, init, measurement_times,\n",
    "#              args=(pars[\"theta1\"],pars[\"theta2\"]))\n",
    "#     return {\"X_2\": sol[:,1]}\n",
    "\n",
    "# true_trajectory = model({\"theta1\": theta1_true,\n",
    "#                          \"theta2\": theta2_true})[\"X_2\"]\n",
    "\n",
    "# plt.plot(true_trajectory, color=\"C0\", label='Simulation')\n",
    "# plt.scatter(measurement_times, measurement_data,\n",
    "#             color=\"C1\", label='Data')\n",
    "# plt.xlabel('Time $t$')\n",
    "# plt.ylabel('Measurement $Y$')\n",
    "# plt.title('Conversion reaction: True parameters fit')\n",
    "# plt.legend()\n",
    "# plt.show()\n",
    "\n",
    "# def distance(simulation, data):\n",
    "#     return np.absolute(data[\"X_2\"] - simulation[\"X_2\"]).sum()\n",
    "\n",
    "parameter_prior = Distribution(r=RV(\"uniform\", 0.1, 1000.0),\n",
    "                               C=RV(\"uniform\", 6.0, 3000.0),\n",
    "                               d=RV(\"uniform\", 0.01, 100.0),\n",
    "                               g=RV(\"uniform\", 0.00001, 1000.0))\n",
    "\n",
    "parameter_prior.get_parameter_names()\n",
    "\n",
    "\n",
    "\n",
    "#Noisey model\n",
    "sigma=0.02\n",
    "acceptor = pyabc.StochasticAcceptor()\n",
    "kernel = pyabc.IndependentNormalKernel(var=sigma**2)\n",
    "eps = pyabc.Temperature()\n",
    "\n",
    "abc = pyabc.ABCSMC(deterministic_run, parameter_prior, kernel, eps=eps, acceptor=acceptor,population_size=1000)\n",
    "abc.new(db_path,{\"Contamination\": measurement_data}) #This distance model assumes the name of the predicited and confirmed are the same\n",
    "history_acceptor = abc.run(max_nr_populations=5,minimum_epsilon=100)\n",
    "\n",
    "\n",
    "#No Noise\n",
    "# abc = ABCSMC(models=deterministic_run_NONOISE,\n",
    "#               parameter_priors=parameter_prior,\n",
    "#               distance_function=Distance,\n",
    "#               population_size=50,\n",
    "#               transitions=LocalTransition(k_fraction=.5),\n",
    "#               eps=MedianEpsilon(500, median_multiplier=0.7))\n",
    "\n",
    "# abc.new(db_path, {\"Contamination\": measurement_data,\"sd\":s})\n",
    "# history_acceptor = abc.run(minimum_epsilon=12, max_nr_populations=10)\n",
    "\n",
    "\n"
   ]
  },
  {
   "cell_type": "markdown",
   "id": "ca611a71",
   "metadata": {},
   "source": [
    "Summary statatistics of parameters"
   ]
  },
  {
   "cell_type": "code",
   "execution_count": null,
   "id": "1e722773",
   "metadata": {},
   "outputs": [],
   "source": [
    "from pyabc.visualization import plot_kde_matrix\n",
    "\n",
    "df, w = history_acceptor.get_distribution(m=0)\n",
    "#plot_kde_matrix(df, w);\n",
    "df.hist(color='k', alpha=0.5, bins=25)\n",
    "\n",
    "df.describe()"
   ]
  },
  {
   "cell_type": "code",
   "execution_count": 8,
   "id": "0ed2b5d7",
   "metadata": {},
   "outputs": [
    {
     "data": {
      "text/html": [
       "<div>\n",
       "<style scoped>\n",
       "    .dataframe tbody tr th:only-of-type {\n",
       "        vertical-align: middle;\n",
       "    }\n",
       "\n",
       "    .dataframe tbody tr th {\n",
       "        vertical-align: top;\n",
       "    }\n",
       "\n",
       "    .dataframe thead th {\n",
       "        text-align: right;\n",
       "    }\n",
       "</style>\n",
       "<table border=\"1\" class=\"dataframe\">\n",
       "  <thead>\n",
       "    <tr style=\"text-align: right;\">\n",
       "      <th>name</th>\n",
       "      <th>C</th>\n",
       "      <th>d</th>\n",
       "      <th>g</th>\n",
       "      <th>r</th>\n",
       "    </tr>\n",
       "  </thead>\n",
       "  <tbody>\n",
       "    <tr>\n",
       "      <th>count</th>\n",
       "      <td>100.000000</td>\n",
       "      <td>100.000000</td>\n",
       "      <td>100.000000</td>\n",
       "      <td>100.000000</td>\n",
       "    </tr>\n",
       "    <tr>\n",
       "      <th>mean</th>\n",
       "      <td>977.250289</td>\n",
       "      <td>45.697240</td>\n",
       "      <td>503.769912</td>\n",
       "      <td>504.559077</td>\n",
       "    </tr>\n",
       "    <tr>\n",
       "      <th>std</th>\n",
       "      <td>0.002251</td>\n",
       "      <td>24.717286</td>\n",
       "      <td>262.478009</td>\n",
       "      <td>257.660970</td>\n",
       "    </tr>\n",
       "    <tr>\n",
       "      <th>min</th>\n",
       "      <td>977.244239</td>\n",
       "      <td>4.121380</td>\n",
       "      <td>45.094341</td>\n",
       "      <td>12.692036</td>\n",
       "    </tr>\n",
       "    <tr>\n",
       "      <th>25%</th>\n",
       "      <td>977.248787</td>\n",
       "      <td>27.252975</td>\n",
       "      <td>281.365298</td>\n",
       "      <td>272.687182</td>\n",
       "    </tr>\n",
       "    <tr>\n",
       "      <th>50%</th>\n",
       "      <td>977.250294</td>\n",
       "      <td>43.134696</td>\n",
       "      <td>493.719892</td>\n",
       "      <td>488.236083</td>\n",
       "    </tr>\n",
       "    <tr>\n",
       "      <th>75%</th>\n",
       "      <td>977.251695</td>\n",
       "      <td>64.477944</td>\n",
       "      <td>705.930763</td>\n",
       "      <td>719.726237</td>\n",
       "    </tr>\n",
       "    <tr>\n",
       "      <th>max</th>\n",
       "      <td>977.256117</td>\n",
       "      <td>97.422666</td>\n",
       "      <td>981.576542</td>\n",
       "      <td>990.865738</td>\n",
       "    </tr>\n",
       "  </tbody>\n",
       "</table>\n",
       "</div>"
      ],
      "text/plain": [
       "name            C           d           g           r\n",
       "count  100.000000  100.000000  100.000000  100.000000\n",
       "mean   977.250289   45.697240  503.769912  504.559077\n",
       "std      0.002251   24.717286  262.478009  257.660970\n",
       "min    977.244239    4.121380   45.094341   12.692036\n",
       "25%    977.248787   27.252975  281.365298  272.687182\n",
       "50%    977.250294   43.134696  493.719892  488.236083\n",
       "75%    977.251695   64.477944  705.930763  719.726237\n",
       "max    977.256117   97.422666  981.576542  990.865738"
      ]
     },
     "execution_count": 8,
     "metadata": {},
     "output_type": "execute_result"
    },
    {
     "data": {
      "image/png": "[encoded data removed]",
      "text/plain": [
       "<Figure size 432x288 with 1 Axes>"
      ]
     },
     "metadata": {
      "needs_background": "light"
     },
     "output_type": "display_data"
    },
    {
     "data": {
      "image/png": "[encoded data removed]",
      "text/plain": [
       "<Figure size 432x288 with 1 Axes>"
      ]
     },
     "metadata": {
      "needs_background": "light"
     },
     "output_type": "display_data"
    },
    {
     "data": {
      "image/png": "[encoded data removed]",
      "text/plain": [
       "<Figure size 432x288 with 1 Axes>"
      ]
     },
     "metadata": {
      "needs_background": "light"
     },
     "output_type": "display_data"
    },
    {
     "data": {
      "image/png": "[encoded data removed]",
      "text/plain": [
       "<Figure size 432x288 with 1 Axes>"
      ]
     },
     "metadata": {
      "needs_background": "light"
     },
     "output_type": "display_data"
    },
    {
     "data": {
      "image/png": "[encoded data removed]",
      "text/plain": [
       "<Figure size 432x288 with 1 Axes>"
      ]
     },
     "metadata": {
      "needs_background": "light"
     },
     "output_type": "display_data"
    },
    {
     "data": {
      "image/png": "[encoded data removed]",
      "text/plain": [
       "<Figure size 432x288 with 4 Axes>"
      ]
     },
     "metadata": {
      "needs_background": "light"
     },
     "output_type": "display_data"
    }
   ],
   "source": [
    "pyabc.visualization.plot_histogram_1d(history_acceptor,x=\"r\")\n",
    "pyabc.visualization.plot_histogram_1d(history_acceptor,x=\"C\")\n",
    "pyabc.visualization.plot_histogram_1d(history_acceptor,x=\"d\")\n",
    "pyabc.visualization.plot_histogram_1d(history_acceptor,x=\"g\")\n",
    "\n",
    "pyabc.visualization.plot_sample_numbers(history_acceptor)\n",
    "\n",
    "\n",
    "\n",
    "# fig = plt.figure(figsize=(10,8))\n",
    "# for t in range(history_acceptor.max_t+1):\n",
    "#     ax = fig.add_subplot(3, np.ceil(history_acceptor.max_t / 3), t+1)\n",
    "\n",
    "#     ax = plot_kde_2d(\n",
    "#         *history_acceptor.get_distribution(m=0, t=t), \"r\", \"C\",\"d\",\"g\",\n",
    "#         xmin=0, xmax=15, numx=200, ymin=0, ymax=15, numy=200, ax=ax)\n",
    "#     #ax.scatter([theta1_true], [theta2_true], color=\"C1\",\n",
    "#     #            label='$\\Theta$ true = {:.3f}, {:.3f}'.format(\n",
    "#     #                theta1_true, theta2_true))\n",
    "#     ax.set_title(\"Posterior t={}\".format(t))\n",
    "\n",
    "#     ax.legend()\n",
    "# fig.tight_layout()\n",
    "\n",
    "\n",
    "\n",
    "# _, ax = plt.subplots()\n",
    "# for t in range(history_acceptor.max_t + 1):\n",
    "#     pyabc.visualization.plot_kde_1d_highlevel(\n",
    "#         history_acceptor, x=\"Contamination\", t=t,\n",
    "#         refval=measurement_data, refval_color='grey',\n",
    "#         xmin=0, xmax=15, ax=ax, numx=50, label=f\"Iteration {t}\")\n",
    "# ax.legend()\n",
    "# plt.show()\n",
    "\n",
    "\n",
    "# # History of acceptances\n",
    "# pyabc.visualization.plot_sample_numbers(history_acceptor, labels=\"noisy\")\n",
    "# plt.show()\n",
    "\n",
    "# ####\n",
    "\n",
    "# _, ax = plt.subplots()\n",
    "\n",
    "# def plot_data(sum_stat, weight, ax, **kwargs):\n",
    "#     \"\"\"Plot a single trajectory\"\"\"\n",
    "#     ax.plot(measurement_times, sum_stat['Contamination'], color='grey', alpha=0.1)\n",
    "    \n",
    "# def plot_mean(sum_stats, weights, ax, **kwargs):\n",
    "#     \"\"\"Plot mean over all samples\"\"\"\n",
    "#     weights = np.array(weights)\n",
    "#     weights /= weights.sum()\n",
    "#     data = np.array([sum_stat['Contamination'] for sum_stat in sum_stats])\n",
    "#     mean = (data * weights.reshape((-1, 1))).sum(axis=0)\n",
    "#     ax.plot(measurement_times, mean, color='C2', label='Sample mean')\n",
    "    \n",
    "# ax = plot_data_callback(h, plot_data, plot_mean, ax=ax)\n",
    "\n",
    "# #plt.plot(true_trajectory, color=\"C0\", label='Simulation')\n",
    "# plt.errorbar([0,1,2,4,8,24],np.append(initial_contamination,measurement_data), yerr=[92,26,2.3,4.67,4.33,4.2], fmt='x',color=\"Teal\")\n",
    "# plt.xlabel('Time $t$')\n",
    "# plt.ylabel('CFU ')\n",
    "# plt.title('Time(h) after cleaning')\n",
    "# plt.legend()\n",
    "# plt.show()"
   ]
  },
  {
   "cell_type": "markdown",
   "id": "cba0c901",
   "metadata": {},
   "source": [
    "Plot some curves "
   ]
  },
  {
   "cell_type": "code",
   "execution_count": null,
   "id": "82c3bc55",
   "metadata": {},
   "outputs": [],
   "source": []
  }
 ],
 "metadata": {
  "kernelspec": {
   "display_name": "Python 3",
   "language": "python",
   "name": "python3"
  },
  "language_info": {
   "codemirror_mode": {
    "name": "ipython",
    "version": 3
   },
   "file_extension": ".py",
   "mimetype": "text/x-python",
   "name": "python",
   "nbconvert_exporter": "python",
   "pygments_lexer": "ipython3",
   "version": "3.8.8"
  }
 },
 "nbformat": 4,
 "nbformat_minor": 5
}
