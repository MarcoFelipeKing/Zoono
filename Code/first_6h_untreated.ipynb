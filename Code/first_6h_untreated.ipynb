{
  "cells": [
    {
      "cell_type": "code",
      "execution_count": 10,
      "metadata": {
        "id": "Lq0fLqeB8hRr"
      },
      "outputs": [],
      "source": [
        "#!pip install pyabc\n",
        "import pyabc as pyabc\n",
        "from pyabc import (ABCSMC,\n",
        "                   RV, Distribution,\n",
        "                   MedianEpsilon,\n",
        "                   LocalTransition,\n",
        "                   Distance)\n",
        "from pyabc.visualization import plot_kde_2d, plot_data_callback\n",
        "import matplotlib.pyplot as plt\n",
        "import os\n",
        "import tempfile\n",
        "import numpy as np\n",
        "#import scipy as sp\n",
        "from scipy.integrate import odeint\n",
        "import math\n",
        "import seaborn as sns\n",
        "import pandas as pd\n",
        "#pyabc.settings.set_figure_params('pyabc')  # for beautified plots\n",
        "db_path = (\"sqlite:///\" +\n",
        "           os.path.join(tempfile.gettempdir(), \"test4.db\"))\n",
        "\n"
      ]
    },
    {
      "cell_type": "markdown",
      "metadata": {},
      "source": []
    },
    {
      "cell_type": "code",
      "execution_count": 17,
      "metadata": {},
      "outputs": [
        {
          "data": {
            "text/plain": [
              "<AxesSubplot:xlabel='time', ylabel='conc'>"
            ]
          },
          "execution_count": 17,
          "metadata": {},
          "output_type": "execute_result"
        },
        {
          "data": {
            "image/png": "[encoded data removed]",
            "text/plain": [
              "<Figure size 432x288 with 1 Axes>"
            ]
          },
          "metadata": {
            "needs_background": "light"
          },
          "output_type": "display_data"
        }
      ],
      "source": [
        "#Import gerba.data.20200302.csv\n",
        "gerba_data = pd.read_csv('../Data/gerba.data.20200302.csv')\n",
        "#Plot time vs conc and colour by treatment\n",
        "gerba_data.plot(x='time', y='conc', kind='scatter', colormap='viridis', logy=True)\n",
        "#colour by treatment\n",
        "\n"
      ]
    },
    {
      "cell_type": "markdown",
      "metadata": {
        "id": "_0TZ_cwZcu1t"
      },
      "source": [
        "Fit the treated group data from 16:24h to estimate r and l"
      ]
    },
    {
      "cell_type": "code",
      "execution_count": null,
      "metadata": {
        "id": "5Cxug6P2ctyv"
      },
      "outputs": [],
      "source": [
        "#Here we defien the ODE model (1) $ y'=(yl+r)(1-y)$\n",
        "def ode_model(contamination,t,r):\n",
        "    Contamination = contamination;\n",
        "    #return((Contamination*l+r)*(1-Contamination)-d*math.exp(-g*t))\n",
        "    return((Contamination*r)) #r*(1-Contamination)-d*math.exp(-g*t)*Contamination\n",
        "\n",
        "#Here we create the input parameters and extract only specific time-points\n",
        "def deterministic_run(parameters):#precision,initial_contamination,r,C,d,g):\n",
        "    precision=5000\n",
        "    tmax = 6\n",
        "    time_space = np.linspace(0,tmax,precision+1)#precision+1?\n",
        "    sim=odeint(ode_model,initial_contamination,time_space,args=(parameters[\"r\"]))\n",
        "    #num_at_0=sim[int(precision*0.1/50.0)]\n",
        "    #num_at_1=sim[int(precision*1/tmax)]\n",
        "    num_at_2=sim[int(precision*2/tmax)]\n",
        "    num_at_4=sim[int(precision*4/tmax)]\n",
        "    num_at_6=sim[int(precision*6/tmax)]\n",
        "    # num_at_8=sim[int(precision*8/tmax)]\n",
        "    #num_at_16=sim[int(precision*16/tmax)]\n",
        "    #num_at_18=sim[int(precision*18/tmax)]\n",
        "    #num_at_20=sim[int(precision*20/tmax)]\n",
        "    #num_at_22=sim[int(precision*22/tmax)]\n",
        "    #num_at_24=sim[int(precision*24/tmax)]\n",
        "    #return{\"Contamination\":[num_at_2,num_at_4,num_at_6,num_at_16,num_at_18,num_at_20,num_at_22,num_at_24]}\n",
        "    return{\"Contamination\":[num_at_2,num_at_4,num_at_6]}\n",
        "\n",
        "# def model(Contamination,t,r,l): #this is the analytical solution to (yl+r)(1-y)\n",
        "#     precision=5000\n",
        "#     tmax = 6\n",
        "#     time_space = np.linspace(0,tmax,precision+1)\n",
        "#     sim=-1*(l*Contamination^3)/3 + (l/2 - r/2)*Contamination^2 + r*Contamination\n",
        "#     num_at_2=sim[int(precision*2/tmax)]\n",
        "#     num_at_4=sim[int(precision*4/tmax)]\n",
        "#     num_at_6=sim[int(precision*6/tmax)]\n",
        "#     return(-1*(l*Contamination^3)/3 + (l/2 - r/2)*Contamination^2 + r*Contamination)\n",
        "\n"
      ]
    },
    {
      "cell_type": "code",
      "execution_count": null,
      "metadata": {},
      "outputs": [],
      "source": [
        "# from scipy.integrate import odeint\n",
        "# import numpy as np\n",
        "# def ode_model(contamination,t,r,l):\n",
        "#     Contamination = contamination;\n",
        "#     return((Contamination*l+r)*(1-Contamination))\n",
        "\n",
        "# #Here we create the input parameters and extract only specific time-points\n",
        "# def deterministic_run(parameters):#precision,initial_contamination,r,C,d,g):\n",
        "#     precision=5000\n",
        "#     tmax = 6\n",
        "#     time_space = np.linspace(0,tmax,precision+1)#precision+1?\n",
        "#     sim=odeint(ode_model,initial_contamination,time_space,args=(parameters[\"r\"],parameters[\"l\"]))\n",
        "#     #num_at_0=sim[int(precision*0.1/50.0)]\n",
        "#     #num_at_1=sim[int(precision*1/tmax)]\n",
        "#     num_at_2=sim[int(precision*2/tmax)]\n",
        "#     num_at_4=sim[int(precision*4/tmax)]\n",
        "#     num_at_6=sim[int(precision*6/tmax)]\n",
        "#     # num_at_8=sim[int(precision*8/tmax)]\n",
        "#     #num_at_16=sim[int(precision*16/tmax)]\n",
        "#     #num_at_18=sim[int(precision*18/tmax)]\n",
        "#     #num_at_20=sim[int(precision*20/tmax)]\n",
        "#     #num_at_22=sim[int(precision*22/tmax)]\n",
        "#     #num_at_24=sim[int(precision*24/tmax)]\n",
        "#     #return{\"Contamination\":[num_at_2,num_at_4,num_at_6,num_at_16,num_at_18,num_at_20,num_at_22,num_at_24]}\n",
        "#     return{\"Contamination\":[num_at_2,num_at_4,num_at_6]}\n",
        "\n",
        "# #print(deterministic_run({\"r\":0.1,\"l\":0.1}))\n",
        "# odeint(ode_model,20560,np.linspace(0,6,5000+1),args=(0.1,0.2))\n",
        "\n",
        "\n"
      ]
    },
    {
      "cell_type": "markdown",
      "metadata": {
        "id": "gvQHaWStdMW_"
      },
      "source": [
        "# Define the parameter priors\n",
        "\n",
        "We choose some examples to see how well it works."
      ]
    },
    {
      "cell_type": "code",
      "execution_count": null,
      "metadata": {
        "colab": {
          "base_uri": "https://localhost:8080/"
        },
        "id": "HbLRjSi6dJuP",
        "outputId": "287611c5-2014-4ed3-fc4d-f41afdf8ebad"
      },
      "outputs": [],
      "source": [
        "parameter_prior = Distribution(r=RV(\"uniform\", 0.0, 1000.0))\n",
        "\n",
        "#parameter_prior.get_parameter_names()"
      ]
    },
    {
      "cell_type": "markdown",
      "metadata": {
        "id": "GrbRFB0ZdJen"
      },
      "source": [
        "# Define the distance function\n",
        "This currently is a absolute distances between the two points divided by the standard deviation at each point. Could use Manhattan distance."
      ]
    },
    {
      "cell_type": "code",
      "execution_count": null,
      "metadata": {
        "id": "O2Y1twmJdQBn"
      },
      "outputs": [],
      "source": [
        "def distance(simulation, data):\n",
        "    return np.absolute((data[\"Contamination\"] - simulation[\"Contamination\"])).sum()"
      ]
    },
    {
      "cell_type": "markdown",
      "metadata": {
        "id": "7HcRuw3xdWfe"
      },
      "source": [
        "# Set up the ABC SMC \n"
      ]
    },
    {
      "cell_type": "code",
      "execution_count": null,
      "metadata": {
        "colab": {
          "base_uri": "https://localhost:8080/"
        },
        "id": "sZoXj46xdW1g",
        "outputId": "66377651-9188-497b-dca3-c3ab2275474f"
      },
      "outputs": [
        {
          "name": "stderr",
          "output_type": "stream",
          "text": [
            "ABC.Sampler INFO: Parallelize sampling on 8 processes.\n"
          ]
        }
      ],
      "source": [
        "# We plug all the ABC options together and use an adaptive population size\n",
        "from pyabc.populationstrategy import AdaptivePopulationSize\n",
        "# from pyabc.epsilon import epsilon\n",
        "# acceptor = pyabc.StochasticAcceptor()\n",
        "# kernel = pyabc.IndependentNormalKernel(var=0.2**2)\n",
        "# eps = pyabc.Temperature()\n",
        "\n",
        "\n",
        "abc = ABCSMC(\n",
        "    models=deterministic_run,\n",
        "    parameter_priors=parameter_prior,\n",
        "    distance_function=distance,\n",
        "    population_size=AdaptivePopulationSize(1000, 0.15),\n",
        "    # population_size=1000,\n",
        "    transitions=LocalTransition(k_fraction=0.3),\n",
        "    # eps=MedianEpsilon(500, median_multiplier=0.7),\n",
        ")\n",
        "\n",
        "# abc = ABCSMC(\n",
        "#     models=deterministic_run,\n",
        "#     parameter_priors=parameter_prior,\n",
        "#     #population_size=AdaptivePopulationSize(1000, 0.15),\n",
        "#     # kernel=pyabc.IndependentNormalKernel(var=0.2**2), \n",
        "#     eps=epsilon.TemperatureBase(), \n",
        "#     acceptor=pyabc.StochasticAcceptor(),\n",
        "#     population_size=1000,\n",
        "#     #transitions=LocalTransition(k_fraction=0.3),\n",
        "#     # eps=MedianEpsilon(500, median_multiplier=0.7),\n",
        "# )"
      ]
    },
    {
      "cell_type": "markdown",
      "metadata": {
        "id": "aWlUI4fOdb0X"
      },
      "source": [
        "# Setting the observed data"
      ]
    },
    {
      "cell_type": "code",
      "execution_count": null,
      "metadata": {
        "colab": {
          "base_uri": "https://localhost:8080/"
        },
        "id": "3xtn_zfLdcUi",
        "outputId": "edc7ceeb-ec96-40f0-d21d-12e5eb354c0c"
      },
      "outputs": [
        {
          "name": "stderr",
          "output_type": "stream",
          "text": [
            "ABC.History INFO: Start <ABCSMC id=14, start_time=2022-04-13 22:06:38>\n"
          ]
        }
      ],
      "source": [
        "# y_observed is the important piece here: our actual observation.\n",
        "initial_contamination=20560\n",
        "\n",
        "#Assign y_observed to the ABCSMC object\n",
        "measurement_data =np.array([43400,52880,64000])#  np.array([134.0,202.0,294.0]) #y_observed #\n",
        "s=np.array([11958,8100,21479])#np.array([93.70165,86.13942,162.11107])#,116.61904,123.61230,396.88789,628.87201,1147.13556]) y_observed_sd #\n",
        "precision=5000\n",
        "measurement_times = np.array([2,4,6]) #np.array([2,4,6]) #np.array([2,4,6,16,18,20,22,24]) #\n",
        "\n",
        "\n",
        "#This sets up the database and includes the measurement data and standard deviation\n",
        "history = abc.new(db_path, {\"Contamination\": measurement_data,\"sd\":s})"
      ]
    },
    {
      "cell_type": "markdown",
      "metadata": {
        "id": "gd8DyJhseIbS"
      },
      "source": [
        "# Running the ABC"
      ]
    },
    {
      "cell_type": "code",
      "execution_count": null,
      "metadata": {
        "colab": {
          "base_uri": "https://localhost:8080/"
        },
        "id": "zt7PqF1ieI0U",
        "outputId": "bc72bfdd-2b86-4bfc-8867-c8e2beaaf307"
      },
      "outputs": [
        {
          "name": "stderr",
          "output_type": "stream",
          "text": [
            "ABC INFO: Calibration sample t = -1.\n",
            "ABC.History INFO: Done <ABCSMC id=14, duration=0:00:05.283543, end_time=2022-04-13 22:06:44>\n"
          ]
        },
        {
          "ename": "ProcessError",
          "evalue": "At least one worker is dead.",
          "output_type": "error",
          "traceback": [
            "\u001b[0;31m---------------------------------------------------------------------------\u001b[0m",
            "\u001b[0;31mEmpty\u001b[0m                                     Traceback (most recent call last)",
            "\u001b[0;32m~/opt/anaconda3/lib/python3.8/site-packages/pyabc/sampler/multicorebase.py\u001b[0m in \u001b[0;36mget_if_worker_healthy\u001b[0;34m(workers, queue)\u001b[0m\n\u001b[1;32m    102\u001b[0m         \u001b[0;32mtry\u001b[0m\u001b[0;34m:\u001b[0m\u001b[0;34m\u001b[0m\u001b[0;34m\u001b[0m\u001b[0m\n\u001b[0;32m--> 103\u001b[0;31m             \u001b[0mitem\u001b[0m \u001b[0;34m=\u001b[0m \u001b[0mqueue\u001b[0m\u001b[0;34m.\u001b[0m\u001b[0mget\u001b[0m\u001b[0;34m(\u001b[0m\u001b[0;32mTrue\u001b[0m\u001b[0;34m,\u001b[0m \u001b[0;36m5\u001b[0m\u001b[0;34m)\u001b[0m\u001b[0;34m\u001b[0m\u001b[0;34m\u001b[0m\u001b[0m\n\u001b[0m\u001b[1;32m    104\u001b[0m             \u001b[0;32mreturn\u001b[0m \u001b[0mitem\u001b[0m\u001b[0;34m\u001b[0m\u001b[0;34m\u001b[0m\u001b[0m\n",
            "\u001b[0;32m~/opt/anaconda3/lib/python3.8/multiprocessing/queues.py\u001b[0m in \u001b[0;36mget\u001b[0;34m(self, block, timeout)\u001b[0m\n\u001b[1;32m    107\u001b[0m                     \u001b[0;32mif\u001b[0m \u001b[0;32mnot\u001b[0m \u001b[0mself\u001b[0m\u001b[0;34m.\u001b[0m\u001b[0m_poll\u001b[0m\u001b[0;34m(\u001b[0m\u001b[0mtimeout\u001b[0m\u001b[0;34m)\u001b[0m\u001b[0;34m:\u001b[0m\u001b[0;34m\u001b[0m\u001b[0;34m\u001b[0m\u001b[0m\n\u001b[0;32m--> 108\u001b[0;31m                         \u001b[0;32mraise\u001b[0m \u001b[0mEmpty\u001b[0m\u001b[0;34m\u001b[0m\u001b[0;34m\u001b[0m\u001b[0m\n\u001b[0m\u001b[1;32m    109\u001b[0m                 \u001b[0;32melif\u001b[0m \u001b[0;32mnot\u001b[0m \u001b[0mself\u001b[0m\u001b[0;34m.\u001b[0m\u001b[0m_poll\u001b[0m\u001b[0;34m(\u001b[0m\u001b[0;34m)\u001b[0m\u001b[0;34m:\u001b[0m\u001b[0;34m\u001b[0m\u001b[0;34m\u001b[0m\u001b[0m\n",
            "\u001b[0;31mEmpty\u001b[0m: ",
            "\nDuring handling of the above exception, another exception occurred:\n",
            "\u001b[0;31mProcessError\u001b[0m                              Traceback (most recent call last)",
            "\u001b[0;32m<ipython-input-8-754c90ac7105>\u001b[0m in \u001b[0;36m<module>\u001b[0;34m\u001b[0m\n\u001b[1;32m      1\u001b[0m \u001b[0;31m# We run the ABC until either criterion is met\u001b[0m\u001b[0;34m\u001b[0m\u001b[0;34m\u001b[0m\u001b[0;34m\u001b[0m\u001b[0m\n\u001b[0;32m----> 2\u001b[0;31m \u001b[0mhistory\u001b[0m \u001b[0;34m=\u001b[0m \u001b[0mabc\u001b[0m\u001b[0;34m.\u001b[0m\u001b[0mrun\u001b[0m\u001b[0;34m(\u001b[0m\u001b[0mminimum_epsilon\u001b[0m\u001b[0;34m=\u001b[0m\u001b[0;36m0.1\u001b[0m\u001b[0;34m,\u001b[0m \u001b[0mmax_nr_populations\u001b[0m\u001b[0;34m=\u001b[0m\u001b[0;36m15\u001b[0m\u001b[0;34m)\u001b[0m\u001b[0;34m\u001b[0m\u001b[0;34m\u001b[0m\u001b[0m\n\u001b[0m",
            "\u001b[0;32m~/opt/anaconda3/lib/python3.8/site-packages/pyabc/inference/smc.py\u001b[0m in \u001b[0;36mwrapped_run\u001b[0;34m(self, *args, **kwargs)\u001b[0m\n\u001b[1;32m     60\u001b[0m         \u001b[0;32mtry\u001b[0m\u001b[0;34m:\u001b[0m\u001b[0;34m\u001b[0m\u001b[0;34m\u001b[0m\u001b[0m\n\u001b[1;32m     61\u001b[0m             \u001b[0;31m# the actual run\u001b[0m\u001b[0;34m\u001b[0m\u001b[0;34m\u001b[0m\u001b[0;34m\u001b[0m\u001b[0m\n\u001b[0;32m---> 62\u001b[0;31m             \u001b[0mret\u001b[0m \u001b[0;34m=\u001b[0m \u001b[0mrun\u001b[0m\u001b[0;34m(\u001b[0m\u001b[0mself\u001b[0m\u001b[0;34m,\u001b[0m \u001b[0;34m*\u001b[0m\u001b[0margs\u001b[0m\u001b[0;34m,\u001b[0m \u001b[0;34m**\u001b[0m\u001b[0mkwargs\u001b[0m\u001b[0;34m)\u001b[0m\u001b[0;34m\u001b[0m\u001b[0;34m\u001b[0m\u001b[0m\n\u001b[0m\u001b[1;32m     63\u001b[0m         \u001b[0;32mfinally\u001b[0m\u001b[0;34m:\u001b[0m\u001b[0;34m\u001b[0m\u001b[0;34m\u001b[0m\u001b[0m\n\u001b[1;32m     64\u001b[0m             \u001b[0;31m# close session and store end time\u001b[0m\u001b[0;34m\u001b[0m\u001b[0;34m\u001b[0m\u001b[0;34m\u001b[0m\u001b[0m\n",
            "\u001b[0;32m~/opt/anaconda3/lib/python3.8/site-packages/pyabc/inference/smc.py\u001b[0m in \u001b[0;36mrun\u001b[0;34m(self, minimum_epsilon, max_nr_populations, min_acceptance_rate, max_total_nr_simulations, max_walltime, min_eps_diff)\u001b[0m\n\u001b[1;32m    683\u001b[0m         \u001b[0mafter\u001b[0m \u001b[0msampling\u001b[0m \u001b[0mwas\u001b[0m \u001b[0mstopped\u001b[0m \u001b[0monce\u001b[0m\u001b[0;34m.\u001b[0m\u001b[0;34m\u001b[0m\u001b[0;34m\u001b[0m\u001b[0m\n\u001b[1;32m    684\u001b[0m         \"\"\"\n\u001b[0;32m--> 685\u001b[0;31m         t0: int = self.initialize_components_before_run(\n\u001b[0m\u001b[1;32m    686\u001b[0m             \u001b[0mminimum_epsilon\u001b[0m\u001b[0;34m=\u001b[0m\u001b[0mminimum_epsilon\u001b[0m\u001b[0;34m,\u001b[0m\u001b[0;34m\u001b[0m\u001b[0;34m\u001b[0m\u001b[0m\n\u001b[1;32m    687\u001b[0m             \u001b[0mmax_nr_populations\u001b[0m\u001b[0;34m=\u001b[0m\u001b[0mmax_nr_populations\u001b[0m\u001b[0;34m,\u001b[0m\u001b[0;34m\u001b[0m\u001b[0;34m\u001b[0m\u001b[0m\n",
            "\u001b[0;32m~/opt/anaconda3/lib/python3.8/site-packages/pyabc/inference/smc.py\u001b[0m in \u001b[0;36minitialize_components_before_run\u001b[0;34m(self, minimum_epsilon, max_nr_populations, min_acceptance_rate, max_total_nr_simulations, max_walltime, min_eps_diff)\u001b[0m\n\u001b[1;32m    764\u001b[0m         \u001b[0mself\u001b[0m\u001b[0;34m.\u001b[0m\u001b[0m_adapt_population_size\u001b[0m\u001b[0;34m(\u001b[0m\u001b[0mt0\u001b[0m\u001b[0;34m)\u001b[0m\u001b[0;34m\u001b[0m\u001b[0;34m\u001b[0m\u001b[0m\n\u001b[1;32m    765\u001b[0m         \u001b[0;31m# sample from prior to calibrate distance, epsilon, and acceptor\u001b[0m\u001b[0;34m\u001b[0m\u001b[0;34m\u001b[0m\u001b[0;34m\u001b[0m\u001b[0m\n\u001b[0;32m--> 766\u001b[0;31m         \u001b[0mself\u001b[0m\u001b[0;34m.\u001b[0m\u001b[0m_initialize_dist_eps_acc\u001b[0m\u001b[0;34m(\u001b[0m\u001b[0mt0\u001b[0m\u001b[0;34m)\u001b[0m\u001b[0;34m\u001b[0m\u001b[0;34m\u001b[0m\u001b[0m\n\u001b[0m\u001b[1;32m    767\u001b[0m \u001b[0;34m\u001b[0m\u001b[0m\n\u001b[1;32m    768\u001b[0m         \u001b[0;31m# configure recording of rejected particles\u001b[0m\u001b[0;34m\u001b[0m\u001b[0;34m\u001b[0m\u001b[0;34m\u001b[0m\u001b[0m\n",
            "\u001b[0;32m~/opt/anaconda3/lib/python3.8/site-packages/pyabc/inference/smc.py\u001b[0m in \u001b[0;36m_initialize_dist_eps_acc\u001b[0;34m(self, t)\u001b[0m\n\u001b[1;32m    490\u001b[0m             \u001b[0;32mreturn\u001b[0m \u001b[0mrecords\u001b[0m\u001b[0;34m\u001b[0m\u001b[0;34m\u001b[0m\u001b[0m\n\u001b[1;32m    491\u001b[0m \u001b[0;34m\u001b[0m\u001b[0m\n\u001b[0;32m--> 492\u001b[0;31m         self.eps.initialize(\n\u001b[0m\u001b[1;32m    493\u001b[0m             \u001b[0mt\u001b[0m\u001b[0;34m=\u001b[0m\u001b[0mt\u001b[0m\u001b[0;34m,\u001b[0m\u001b[0;34m\u001b[0m\u001b[0;34m\u001b[0m\u001b[0m\n\u001b[1;32m    494\u001b[0m             \u001b[0mget_weighted_distances\u001b[0m\u001b[0;34m=\u001b[0m\u001b[0mget_initial_weighted_distances\u001b[0m\u001b[0;34m,\u001b[0m\u001b[0;34m\u001b[0m\u001b[0;34m\u001b[0m\u001b[0m\n",
            "\u001b[0;32m~/opt/anaconda3/lib/python3.8/site-packages/pyabc/epsilon/epsilon.py\u001b[0m in \u001b[0;36minitialize\u001b[0;34m(self, t, get_weighted_distances, get_all_records, max_nr_populations, acceptor_config)\u001b[0m\n\u001b[1;32m    150\u001b[0m \u001b[0;34m\u001b[0m\u001b[0m\n\u001b[1;32m    151\u001b[0m         \u001b[0;31m# execute function\u001b[0m\u001b[0;34m\u001b[0m\u001b[0;34m\u001b[0m\u001b[0;34m\u001b[0m\u001b[0m\n\u001b[0;32m--> 152\u001b[0;31m         \u001b[0mweighted_distances\u001b[0m \u001b[0;34m=\u001b[0m \u001b[0mget_weighted_distances\u001b[0m\u001b[0;34m(\u001b[0m\u001b[0;34m)\u001b[0m\u001b[0;34m\u001b[0m\u001b[0;34m\u001b[0m\u001b[0m\n\u001b[0m\u001b[1;32m    153\u001b[0m \u001b[0;34m\u001b[0m\u001b[0m\n\u001b[1;32m    154\u001b[0m         \u001b[0;31m# initialize epsilon\u001b[0m\u001b[0;34m\u001b[0m\u001b[0;34m\u001b[0m\u001b[0;34m\u001b[0m\u001b[0m\n",
            "\u001b[0;32m~/opt/anaconda3/lib/python3.8/site-packages/pyabc/inference/smc.py\u001b[0m in \u001b[0;36mget_initial_weighted_distances\u001b[0;34m()\u001b[0m\n\u001b[1;32m    456\u001b[0m \u001b[0;34m\u001b[0m\u001b[0m\n\u001b[1;32m    457\u001b[0m         \u001b[0;32mdef\u001b[0m \u001b[0mget_initial_weighted_distances\u001b[0m\u001b[0;34m(\u001b[0m\u001b[0;34m)\u001b[0m\u001b[0;34m:\u001b[0m\u001b[0;34m\u001b[0m\u001b[0;34m\u001b[0m\u001b[0m\n\u001b[0;32m--> 458\u001b[0;31m             \u001b[0mpopulation\u001b[0m \u001b[0;34m=\u001b[0m \u001b[0m_get_initial_population_with_distances\u001b[0m\u001b[0;34m(\u001b[0m\u001b[0;34m)\u001b[0m\u001b[0;34m\u001b[0m\u001b[0;34m\u001b[0m\u001b[0m\n\u001b[0m\u001b[1;32m    459\u001b[0m             \u001b[0mweighted_distances\u001b[0m \u001b[0;34m=\u001b[0m \u001b[0mpopulation\u001b[0m\u001b[0;34m.\u001b[0m\u001b[0mget_weighted_distances\u001b[0m\u001b[0;34m(\u001b[0m\u001b[0;34m)\u001b[0m\u001b[0;34m\u001b[0m\u001b[0;34m\u001b[0m\u001b[0m\n\u001b[1;32m    460\u001b[0m             \u001b[0;32mreturn\u001b[0m \u001b[0mweighted_distances\u001b[0m\u001b[0;34m\u001b[0m\u001b[0;34m\u001b[0m\u001b[0m\n",
            "\u001b[0;32m~/opt/anaconda3/lib/python3.8/site-packages/pyabc/inference/smc.py\u001b[0m in \u001b[0;36m_get_initial_population_with_distances\u001b[0;34m()\u001b[0m\n\u001b[1;32m    447\u001b[0m \u001b[0;34m\u001b[0m\u001b[0m\n\u001b[1;32m    448\u001b[0m         \u001b[0;32mdef\u001b[0m \u001b[0m_get_initial_population_with_distances\u001b[0m\u001b[0;34m(\u001b[0m\u001b[0;34m)\u001b[0m\u001b[0;34m:\u001b[0m\u001b[0;34m\u001b[0m\u001b[0;34m\u001b[0m\u001b[0m\n\u001b[0;32m--> 449\u001b[0;31m             \u001b[0mpopulation\u001b[0m \u001b[0;34m=\u001b[0m \u001b[0mself\u001b[0m\u001b[0;34m.\u001b[0m\u001b[0m_get_initial_population\u001b[0m\u001b[0;34m(\u001b[0m\u001b[0mt\u001b[0m \u001b[0;34m-\u001b[0m \u001b[0;36m1\u001b[0m\u001b[0;34m)\u001b[0m\u001b[0;34m\u001b[0m\u001b[0;34m\u001b[0m\u001b[0m\n\u001b[0m\u001b[1;32m    450\u001b[0m \u001b[0;34m\u001b[0m\u001b[0m\n\u001b[1;32m    451\u001b[0m             \u001b[0;32mdef\u001b[0m \u001b[0mdistance_to_ground_truth\u001b[0m\u001b[0;34m(\u001b[0m\u001b[0mx\u001b[0m\u001b[0;34m,\u001b[0m \u001b[0mpar\u001b[0m\u001b[0;34m)\u001b[0m\u001b[0;34m:\u001b[0m\u001b[0;34m\u001b[0m\u001b[0;34m\u001b[0m\u001b[0m\n",
            "\u001b[0;32m~/opt/anaconda3/lib/python3.8/site-packages/pyabc/inference/smc.py\u001b[0m in \u001b[0;36m_get_initial_population\u001b[0;34m(self, t)\u001b[0m\n\u001b[1;32m    521\u001b[0m             \u001b[0;32melse\u001b[0m\u001b[0;34m:\u001b[0m\u001b[0;34m\u001b[0m\u001b[0;34m\u001b[0m\u001b[0m\n\u001b[1;32m    522\u001b[0m                 \u001b[0;31m# sample\u001b[0m\u001b[0;34m\u001b[0m\u001b[0;34m\u001b[0m\u001b[0;34m\u001b[0m\u001b[0m\n\u001b[0;32m--> 523\u001b[0;31m                 \u001b[0mpopulation\u001b[0m \u001b[0;34m=\u001b[0m \u001b[0mself\u001b[0m\u001b[0;34m.\u001b[0m\u001b[0m_sample_from_prior\u001b[0m\u001b[0;34m(\u001b[0m\u001b[0mt\u001b[0m\u001b[0;34m)\u001b[0m\u001b[0;34m\u001b[0m\u001b[0;34m\u001b[0m\u001b[0m\n\u001b[0m\u001b[1;32m    524\u001b[0m             \u001b[0mself\u001b[0m\u001b[0;34m.\u001b[0m\u001b[0m_initial_population\u001b[0m \u001b[0;34m=\u001b[0m \u001b[0mpopulation\u001b[0m\u001b[0;34m\u001b[0m\u001b[0;34m\u001b[0m\u001b[0m\n\u001b[1;32m    525\u001b[0m \u001b[0;34m\u001b[0m\u001b[0m\n",
            "\u001b[0;32m~/opt/anaconda3/lib/python3.8/site-packages/pyabc/inference/smc.py\u001b[0m in \u001b[0;36m_sample_from_prior\u001b[0;34m(self, t)\u001b[0m\n\u001b[1;32m    549\u001b[0m \u001b[0;34m\u001b[0m\u001b[0m\n\u001b[1;32m    550\u001b[0m         \u001b[0;31m# call sampler\u001b[0m\u001b[0;34m\u001b[0m\u001b[0;34m\u001b[0m\u001b[0;34m\u001b[0m\u001b[0m\n\u001b[0;32m--> 551\u001b[0;31m         sample = self.sampler.sample_until_n_accepted(\n\u001b[0m\u001b[1;32m    552\u001b[0m             \u001b[0mn\u001b[0m\u001b[0;34m=\u001b[0m\u001b[0mself\u001b[0m\u001b[0;34m.\u001b[0m\u001b[0mpopulation_size\u001b[0m\u001b[0;34m(\u001b[0m\u001b[0;34m-\u001b[0m\u001b[0;36m1\u001b[0m\u001b[0;34m)\u001b[0m\u001b[0;34m,\u001b[0m\u001b[0;34m\u001b[0m\u001b[0;34m\u001b[0m\u001b[0m\n\u001b[1;32m    553\u001b[0m             \u001b[0msimulate_one\u001b[0m\u001b[0;34m=\u001b[0m\u001b[0msimulate_one\u001b[0m\u001b[0;34m,\u001b[0m\u001b[0;34m\u001b[0m\u001b[0;34m\u001b[0m\u001b[0m\n",
            "\u001b[0;32m~/opt/anaconda3/lib/python3.8/site-packages/pyabc/sampler/base.py\u001b[0m in \u001b[0;36msample_until_n_accepted\u001b[0;34m(self, n, simulate_one, t, **kwargs)\u001b[0m\n\u001b[1;32m     18\u001b[0m \u001b[0;34m\u001b[0m\u001b[0m\n\u001b[1;32m     19\u001b[0m     \u001b[0;32mdef\u001b[0m \u001b[0msample_until_n_accepted\u001b[0m\u001b[0;34m(\u001b[0m\u001b[0mself\u001b[0m\u001b[0;34m,\u001b[0m \u001b[0mn\u001b[0m\u001b[0;34m,\u001b[0m \u001b[0msimulate_one\u001b[0m\u001b[0;34m,\u001b[0m \u001b[0mt\u001b[0m\u001b[0;34m,\u001b[0m \u001b[0;34m**\u001b[0m\u001b[0mkwargs\u001b[0m\u001b[0;34m)\u001b[0m\u001b[0;34m:\u001b[0m\u001b[0;34m\u001b[0m\u001b[0;34m\u001b[0m\u001b[0m\n\u001b[0;32m---> 20\u001b[0;31m         \u001b[0msample\u001b[0m \u001b[0;34m=\u001b[0m \u001b[0mf\u001b[0m\u001b[0;34m(\u001b[0m\u001b[0mself\u001b[0m\u001b[0;34m,\u001b[0m \u001b[0mn\u001b[0m\u001b[0;34m,\u001b[0m \u001b[0msimulate_one\u001b[0m\u001b[0;34m,\u001b[0m \u001b[0mt\u001b[0m\u001b[0;34m,\u001b[0m \u001b[0;34m**\u001b[0m\u001b[0mkwargs\u001b[0m\u001b[0;34m)\u001b[0m\u001b[0;34m\u001b[0m\u001b[0;34m\u001b[0m\u001b[0m\n\u001b[0m\u001b[1;32m     21\u001b[0m \u001b[0;34m\u001b[0m\u001b[0m\n\u001b[1;32m     22\u001b[0m         \u001b[0;32mif\u001b[0m \u001b[0msample\u001b[0m\u001b[0;34m.\u001b[0m\u001b[0mn_accepted\u001b[0m \u001b[0;34m!=\u001b[0m \u001b[0mn\u001b[0m \u001b[0;32mand\u001b[0m \u001b[0msample\u001b[0m\u001b[0;34m.\u001b[0m\u001b[0mok\u001b[0m\u001b[0;34m:\u001b[0m\u001b[0;34m\u001b[0m\u001b[0;34m\u001b[0m\u001b[0m\n",
            "\u001b[0;32m~/opt/anaconda3/lib/python3.8/site-packages/pyabc/sampler/multicore_evaluation_parallel.py\u001b[0m in \u001b[0;36msample_until_n_accepted\u001b[0;34m(self, n, simulate_one, t, max_eval, all_accepted, ana_vars)\u001b[0m\n\u001b[1;32m    140\u001b[0m         \u001b[0;32mwith\u001b[0m \u001b[0mjabbar\u001b[0m\u001b[0;34m(\u001b[0m\u001b[0mtotal\u001b[0m\u001b[0;34m=\u001b[0m\u001b[0mn\u001b[0m\u001b[0;34m,\u001b[0m \u001b[0menable\u001b[0m\u001b[0;34m=\u001b[0m\u001b[0mself\u001b[0m\u001b[0;34m.\u001b[0m\u001b[0mshow_progress\u001b[0m\u001b[0;34m,\u001b[0m \u001b[0mkeep\u001b[0m\u001b[0;34m=\u001b[0m\u001b[0;32mFalse\u001b[0m\u001b[0;34m)\u001b[0m \u001b[0;32mas\u001b[0m \u001b[0mbar\u001b[0m\u001b[0;34m:\u001b[0m\u001b[0;34m\u001b[0m\u001b[0;34m\u001b[0m\u001b[0m\n\u001b[1;32m    141\u001b[0m             \u001b[0;32mwhile\u001b[0m \u001b[0mn_done\u001b[0m \u001b[0;34m<\u001b[0m \u001b[0mlen\u001b[0m\u001b[0;34m(\u001b[0m\u001b[0mprocesses\u001b[0m\u001b[0;34m)\u001b[0m\u001b[0;34m:\u001b[0m\u001b[0;34m\u001b[0m\u001b[0;34m\u001b[0m\u001b[0m\n\u001b[0;32m--> 142\u001b[0;31m                 \u001b[0mval\u001b[0m \u001b[0;34m=\u001b[0m \u001b[0mget_if_worker_healthy\u001b[0m\u001b[0;34m(\u001b[0m\u001b[0mprocesses\u001b[0m\u001b[0;34m,\u001b[0m \u001b[0mqueue\u001b[0m\u001b[0;34m)\u001b[0m\u001b[0;34m\u001b[0m\u001b[0;34m\u001b[0m\u001b[0m\n\u001b[0m\u001b[1;32m    143\u001b[0m                 \u001b[0;32mif\u001b[0m \u001b[0mval\u001b[0m \u001b[0;34m==\u001b[0m \u001b[0mDONE\u001b[0m\u001b[0;34m:\u001b[0m\u001b[0;34m\u001b[0m\u001b[0;34m\u001b[0m\u001b[0m\n\u001b[1;32m    144\u001b[0m                     \u001b[0mn_done\u001b[0m \u001b[0;34m+=\u001b[0m \u001b[0;36m1\u001b[0m\u001b[0;34m\u001b[0m\u001b[0;34m\u001b[0m\u001b[0m\n",
            "\u001b[0;32m~/opt/anaconda3/lib/python3.8/site-packages/pyabc/sampler/multicorebase.py\u001b[0m in \u001b[0;36mget_if_worker_healthy\u001b[0;34m(workers, queue)\u001b[0m\n\u001b[1;32m    105\u001b[0m         \u001b[0;32mexcept\u001b[0m \u001b[0mEmpty\u001b[0m\u001b[0;34m:\u001b[0m\u001b[0;34m\u001b[0m\u001b[0;34m\u001b[0m\u001b[0m\n\u001b[1;32m    106\u001b[0m             \u001b[0;32mif\u001b[0m \u001b[0;32mnot\u001b[0m \u001b[0mhealthy\u001b[0m\u001b[0;34m(\u001b[0m\u001b[0mworkers\u001b[0m\u001b[0;34m)\u001b[0m\u001b[0;34m:\u001b[0m\u001b[0;34m\u001b[0m\u001b[0;34m\u001b[0m\u001b[0m\n\u001b[0;32m--> 107\u001b[0;31m                 \u001b[0;32mraise\u001b[0m \u001b[0mProcessError\u001b[0m\u001b[0;34m(\u001b[0m\u001b[0;34m\"At least one worker is dead.\"\u001b[0m\u001b[0;34m)\u001b[0m\u001b[0;34m\u001b[0m\u001b[0;34m\u001b[0m\u001b[0m\n\u001b[0m",
            "\u001b[0;31mProcessError\u001b[0m: At least one worker is dead."
          ]
        }
      ],
      "source": [
        "# We run the ABC until either criterion is met\n",
        "history = abc.run(minimum_epsilon=0.1, max_nr_populations=15)"
      ]
    },
    {
      "cell_type": "markdown",
      "metadata": {
        "id": "6CAWwQsBefD0"
      },
      "source": [
        "# Visualise the probability density functions"
      ]
    },
    {
      "cell_type": "code",
      "execution_count": null,
      "metadata": {
        "colab": {
          "base_uri": "https://localhost:8080/",
          "height": 369
        },
        "id": "PkIyr3qPef7h",
        "outputId": "72288f01-c62e-4c55-efac-a1e30e55057e"
      },
      "outputs": [],
      "source": [
        "from pyabc.visualization import plot_kde_matrix\n",
        "\n",
        "df, w = history.get_distribution(m=0)\n",
        "plot_kde_matrix(df, w);"
      ]
    },
    {
      "cell_type": "markdown",
      "metadata": {
        "id": "d0x7AfaFgAu3"
      },
      "source": [
        "## Visualise how the parameters converge over populations"
      ]
    },
    {
      "cell_type": "code",
      "execution_count": null,
      "metadata": {
        "colab": {
          "base_uri": "https://localhost:8080/",
          "height": 279
        },
        "id": "VzXchpiNgBWq",
        "outputId": "bb0ee0c1-07c5-4939-b7b1-ee5d6010ee1d"
      },
      "outputs": [],
      "source": [
        "fig, ax = plt.subplots()\n",
        "for t in range(history.max_t + 1):\n",
        "    df, w = history.get_distribution(m=0, t=t)\n",
        "    pyabc.visualization.plot_kde_1d(\n",
        "        df,\n",
        "        w,\n",
        "        xmin=0,\n",
        "        xmax=2,\n",
        "        x=\"r\",\n",
        "        # xname=r\"$\\lambda$\",\n",
        "        ax=ax,\n",
        "        label=f\"PDF t={t}\",\n",
        "    )\n",
        "#Add a vertical line at lambda=0.49 +- 0.32 to 0.72 \n",
        "#This is the experimental value predicted in King et al. 2020 with Kalanne\n",
        "ax.axvline(15, color=\"k\", linestyle=\"dashed\")\n",
        "ax.legend();"
      ]
    },
    {
      "cell_type": "markdown",
      "metadata": {
        "id": "BjMF_4WbgMoA"
      },
      "source": [
        "# Summary statistics\n",
        "\n",
        "First some summary statistics and save to file"
      ]
    },
    {
      "cell_type": "code",
      "execution_count": null,
      "metadata": {
        "colab": {
          "base_uri": "https://localhost:8080/",
          "height": 297
        },
        "id": "EbeStHZzgM9F",
        "outputId": "1c8496b4-ef7d-4247-cb62-c7c12148c19e"
      },
      "outputs": [],
      "source": [
        "df.to_csv(\"abc_results_second_half.csv\", encoding='utf-8', index=False)\n",
        "df.describe()"
      ]
    },
    {
      "cell_type": "markdown",
      "metadata": {
        "id": "xOIOfvcegbN4"
      },
      "source": []
    },
    {
      "cell_type": "code",
      "execution_count": null,
      "metadata": {
        "colab": {
          "base_uri": "https://localhost:8080/",
          "height": 279
        },
        "id": "stBH0BU2gfy8",
        "outputId": "6ca74e26-77fa-4515-cab2-7e05610befce"
      },
      "outputs": [],
      "source": [
        "import pandas as pd\n",
        "import operator\n",
        "import matplotlib.pyplot as plt\n",
        "import numpy as np\n",
        "\n",
        "\n",
        "#plot some curves from the ODE model\n",
        "initial_contamination=20560\n",
        "precision=5000\n",
        "tmax = 8\n",
        "time_space = np.linspace(0,tmax,precision+1)#precision+1?\n",
        "\n",
        "# P=odeint(ode_model,initial_contamination,time_space,args=(1000000.5,1.3))\n",
        "# Pmin=odeint(ode_model,initial_contamination,time_space,args=(df[\"r\"].quantile(0.05),df[\"l\"].quantile(0.05)))\n",
        "# Pmax=odeint(ode_model,initial_contamination,time_space,args=(df[\"r\"].quantile(0.95),df[\"l\"].quantile(0.95)))\n",
        "\n",
        "P=odeint(ode_model,initial_contamination,time_space,args=(df[\"r\"].mean(),df[\"d\"].mean(),df[\"g\"].mean()))\n",
        "Pmin=odeint(ode_model,initial_contamination,time_space,args=(df[\"r\"].quantile(0.05),df[\"d\"].quantile(0.05),df[\"g\"].quantile(0.05)))\n",
        "Pmax=odeint(ode_model,initial_contamination,time_space,args=(df[\"r\"].quantile(0.95),df[\"d\"].quantile(0.95),df[\"g\"].quantile(0.95)))\n",
        "\n",
        "# create a vector of values between 0 and 6\n",
        "x = np.array([0,2,4,6])\n",
        "\n",
        "#Define new sd just for plotting to avoid SD value at 0\n",
        "#s=np.array([385,93.70165,86.13942,162.11107])\n",
        "#measurement_data = np.array([1200,134.0,202.0,294.0])\n",
        "measurement_data =np.array([20560,43400,52880,64000])\n",
        "s=np.array([7482.51295,11958.26074,8100.12346,21478.82678])\n",
        "measurement_times = np.array([0,2,4,6]) \n",
        "\n",
        "\n",
        "#Plot errobars of experimental data\n",
        "\n",
        "plt.errorbar(x,measurement_data,yerr=s,fmt='o', color='black',label='Experimental data')\n",
        "\n",
        "#Plot the model prediction\n",
        "plt.plot(time_space,P,label=\"Model prediction\",color='blue')\n",
        "\n",
        "#Plot confidence intervals around the model prediction\n",
        "\n",
        "plt.fill_between(time_space,np.concatenate(Pmin),np.concatenate(Pmax),alpha=0.2,color='blue')\n",
        "#plt.plot(time_space,Pmin,label=\"Model prediction\",color='red')\n",
        "#plt.plot(time_space,Pmax,label=\"Model prediction\",color='red')\n",
        "\n",
        "#plt.fill_between(x, np.array(map(operator.sub, P[\"Contamination\"], Pmin[\"Contamination\"])), np.array(map(operator.add, P[\"Contamination\"], Pmax[\"Contamination\"])), color='b', alpha=.1)\n",
        "plt.xlim(-1,8)\n",
        "plt.ylabel(\"CFU recovered from finger \\n after t hours\")\n",
        "plt.yscale(\"log\")\n",
        "plt.xlabel(\"Hours after hand hygiene\")\n",
        "plt.legend(loc=\"upper left\")\n",
        "#make y axis logarithmic\n",
        "\n",
        "\n",
        "#save the plot\n",
        "#plt.savefig(\"../Images/abc_prediction.png\", dpi=600)\n",
        "\n",
        "plt.show()"
      ]
    }
  ],
  "metadata": {
    "colab": {
      "name": "Untitled2.ipynb",
      "provenance": []
    },
    "kernelspec": {
      "display_name": "Python 3",
      "name": "python3"
    },
    "language_info": {
      "codemirror_mode": {
        "name": "ipython",
        "version": 3
      },
      "file_extension": ".py",
      "mimetype": "text/x-python",
      "name": "python",
      "nbconvert_exporter": "python",
      "pygments_lexer": "ipython3",
      "version": "3.8.8"
    }
  },
  "nbformat": 4,
  "nbformat_minor": 0
}
