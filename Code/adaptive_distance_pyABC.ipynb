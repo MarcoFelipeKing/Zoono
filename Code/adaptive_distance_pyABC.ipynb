{
 "cells": [
  {
   "cell_type": "markdown",
   "metadata": {},
   "source": [
    "# Adaptive distances ABC-SMC \n",
    "Set up requrirements and experimental data"
   ]
  },
  {
   "cell_type": "code",
   "execution_count": 6,
   "metadata": {},
   "outputs": [],
   "source": [
    "#!/usr/bin/env python3\n",
    "# -*- coding: utf-8 -*-\n",
    "\"\"\"\n",
    "Created on Sun Jun 22 18:22:52 2020\n",
    "\n",
    "@author: marcofking\n",
    "\"\"\"\n",
    "import pyabc as pyabc\n",
    "from pyabc import (ABCSMC,\n",
    "                   RV, Distribution,\n",
    "                   MedianEpsilon,\n",
    "                   LocalTransition)\n",
    "from pyabc.visualization import plot_kde_2d, plot_data_callback\n",
    "import matplotlib.pyplot as plt\n",
    "import os\n",
    "import tempfile\n",
    "import numpy as np\n",
    "#import scipy as sp\n",
    "from scipy.integrate import odeint\n",
    "import math\n",
    "import seaborn as sns\n",
    "import pandas as pd\n",
    "#pyabc.settings.set_figure_params('pyabc')  # for beautified plots\n",
    "db_path = (\"sqlite:///\" +\n",
    "           os.path.join(tempfile.gettempdir(), \"test5.db\"))\n",
    "\n"
   ]
  },
  {
   "cell_type": "markdown",
   "metadata": {},
   "source": [
    "# Plot the data\n",
    "\n",
    "An experiment was carried out in a biological research facilitiy whre one hand from 10 people (left or right) was cleaned with a sanitiser. Their other hand was sampled as a control. Over the next 6 hours 5 participants hands' were sampled every hour for microorganisms, after which these 5 left. The other 5 participants (who had not been previously sampled but had been treated) were then sampled from hours 16 to 24 after sanitiser application.\n",
    "\n",
    "The following plot shows the mean and standard deviation plotted at each time-point."
   ]
  },
  {
   "cell_type": "code",
   "execution_count": 7,
   "metadata": {},
   "outputs": [
    {
     "data": {
      "text/plain": [
       "<matplotlib.legend.Legend at 0x7f979b732820>"
      ]
     },
     "execution_count": 7,
     "metadata": {},
     "output_type": "execute_result"
    },
    {
     "data": {
      "image/png": "[encoded data removed]",
      "text/plain": [
       "<Figure size 432x288 with 1 Axes>"
      ]
     },
     "metadata": {
      "needs_background": "light"
     },
     "output_type": "display_data"
    }
   ],
   "source": [
    "#read gerba_data_summary.csv from Data\n",
    "gerba_data_summary = pd.read_csv(\"../Data/gerba_data_summary.csv\")\n",
    "\n",
    "\n",
    "#Create a vector of values 0,2,4,6,16,18,20,22,24\n",
    "x = np.array([0,2,4,6,16,18,20,22,24])\n",
    "\n",
    "#Plot the time vs mean from gerba_data_mean for treatment type 1\n",
    "plt.errorbar(x,gerba_data_summary[gerba_data_summary['treatment']=='Treated']['mean'],yerr=gerba_data_summary[gerba_data_summary['treatment']=='Treated']['sd'],fmt='o',label='Treated')\n",
    "plt.errorbar(x,gerba_data_summary[gerba_data_summary['treatment']=='Untreated']['mean'],yerr=gerba_data_summary[gerba_data_summary['treatment']=='Untreated']['sd'],fmt='o',label='Untreated')\n",
    "plt.yscale(\"log\")\n",
    "plt.xlabel(\"Hours after hand hygiene\")\n",
    "plt.ylabel(\"CFU recovered from finger \\n after t hours\")\n",
    "plt.legend(loc=\"upper left\")"
   ]
  },
  {
   "cell_type": "markdown",
   "metadata": {},
   "source": [
    "# Define the ODE to solve  - We use ODE 1.\n",
    "\n",
    "1) We consider only recontamination from surface contacts, not from additional proliferation of the bacterias on the hands.\n",
    "$$ y'=(1-\\dfrac{y}{C})r-d\\exp(-g t)y$$\n",
    "\n",
    "$C$ is carrying capacity. $d$ is maximum effecicacy. $g$ is decay from the disinfectant.\n",
    "\n",
    "2) If we wanted to consider proliferation on hands as well as from surface contacts then we could use:\n",
    "$$ y'=y(1-\\dfrac{y}{C})l-d\\exp(-g t)y$$\n",
    "\n",
    "where $l$ is the rate at which microorganisms proliferate on hands. E.g. reproduction.\n",
    "\n",
    "3) Proliferation and increase from contacts can be combined:\n",
    "$$ y'=(yl+r)(1-\\dfrac{y}{C})-d\\exp(-g t)y$$\n",
    "\n",
    "However with the data we have it is unlikely that we can learn about y and r together.\n",
    "\n",
    "Currently we only consider the first 4 experimental datapoints as there is a gap which is hard to explain using this model-\n",
    "\n",
    "Notes: 12th April\n",
    "- We can first try to fit the model to the data from group 2's washed hand to learn only about $C$ and $r$.\n",
    "- Then with those learned $C$ and $r$ we can fit the model to the data from group 1's washed hand to learn only about $d$ and $g$. \n",
    "- But we never reach a saturation so maybe we shouldn't consider $C$ at all."
   ]
  },
  {
   "cell_type": "code",
   "execution_count": 8,
   "metadata": {},
   "outputs": [],
   "source": [
    "#Here we defien the ODE model\n",
    "def ode_model(contamination,t,r,C,d,g):\n",
    "    Contamination = contamination;\n",
    "    return(r*(1-Contamination/C)-d*math.exp(-g*t)*Contamination)\n",
    "\n",
    "#Here we create the input parameters and extract only specific time-points\n",
    "def deterministic_run(parameters):#precision,initial_contamination,r,C,d,g):\n",
    "    precision=5000\n",
    "    tmax = 6\n",
    "    time_space = np.linspace(0,tmax,precision+1)#precision+1?\n",
    "    sim=odeint(ode_model,initial_contamination,time_space,args=(parameters[\"r\"],parameters[\"C\"],parameters[\"d\"],parameters[\"g\"]))\n",
    "    #num_at_0=sim[int(precision*0.1/50.0)]\n",
    "    #num_at_1=sim[int(precision*1/tmax)]\n",
    "    num_at_2=sim[int(precision*2/tmax)]\n",
    "    num_at_4=sim[int(precision*4/tmax)]\n",
    "    num_at_6=sim[int(precision*6/tmax)]\n",
    "   # num_at_16=sim[int(precision*16/tmax)]\n",
    "   # num_at_18=sim[int(precision*18/tmax)]\n",
    "   # num_at_20=sim[int(precision*20/tmax)]\n",
    "   # num_at_22=sim[int(precision*22/tmax)]\n",
    "   # num_at_24=sim[int(precision*24/tmax)]\n",
    "    #return{\"Contamination\":[num_at_2,num_at_4,num_at_6,num_at_16,num_at_18,num_at_20,num_at_22,num_at_24]+ sigma*np.random.randn(8)}\n",
    "    return{\"Contamination\":[num_at_2,num_at_4,num_at_6]}"
   ]
  },
  {
   "cell_type": "markdown",
   "metadata": {},
   "source": [
    "# Define the parameter priors\n",
    "\n",
    "We choose some examples to see how well it works."
   ]
  },
  {
   "cell_type": "code",
   "execution_count": 9,
   "metadata": {},
   "outputs": [],
   "source": [
    "parameter_prior = Distribution(r=RV(\"uniform\", 0.0, 200.0),\n",
    "                               C=RV(\"uniform\", 1000.0, 6000.0),\n",
    "                               d=RV(\"uniform\", 10.0, 1000.0),\n",
    "                               g=RV(\"uniform\", 2.0, 200.0))\n",
    "\n",
    "#parameter_prior.get_parameter_names()"
   ]
  },
  {
   "cell_type": "markdown",
   "metadata": {},
   "source": [
    "# Define the distance fuction\n",
    "We propose to use the PCMAD (Perhaps-Combined MAD), which either uses MAD, or, if the fraction of severe outliers detected is not too high (precisely not more than 1/3, see the publication and the API for details), uses MAD + MADO, where MADO is the median absolute deviation to the observed value.\n",
    "\n",
    "see https://pyabc.readthedocs.io/en/latest/examples/adaptive_distances.html"
   ]
  },
  {
   "cell_type": "code",
   "execution_count": 10,
   "metadata": {},
   "outputs": [],
   "source": [
    "#Original Euclidean distance weighted by sd at each time-point\n",
    "# # def distance(simulation, data):\n",
    "#     return np.absolute((data[\"Contamination\"] - simulation[\"Contamination\"])/data[\"sd\"]).sum()\n"
   ]
  },
  {
   "cell_type": "markdown",
   "metadata": {},
   "source": [
    "# Set up the ABC SMC \n"
   ]
  },
  {
   "cell_type": "code",
   "execution_count": 11,
   "metadata": {},
   "outputs": [
    {
     "name": "stderr",
     "output_type": "stream",
     "text": [
      "ABC.Sampler INFO: Parallelize sampling on 8 processes.\n"
     ]
    }
   ],
   "source": [
    "distance = pyabc.PNormDistance(p=2)\n",
    "\n",
    "abc = pyabc.ABCSMC(models=deterministic_run,parameter_priors=parameter_prior, distance_function=distance)\n"
   ]
  },
  {
   "cell_type": "code",
   "execution_count": null,
   "metadata": {},
   "outputs": [],
   "source": []
  },
  {
   "cell_type": "markdown",
   "metadata": {},
   "source": [
    "# Setting the observed data"
   ]
  },
  {
   "cell_type": "markdown",
   "metadata": {},
   "source": []
  },
  {
   "cell_type": "code",
   "execution_count": 12,
   "metadata": {},
   "outputs": [
    {
     "name": "stderr",
     "output_type": "stream",
     "text": [
      "ABC.History INFO: Start <ABCSMC id=1, start_time=2022-04-21 20:22:31>\n"
     ]
    }
   ],
   "source": [
    "# y_observed is the important piece here: our actual observation.\n",
    "initial_contamination=1200.0\n",
    "measurement_data = np.array([134.0,202.0,294.0]) #,400,644,1232,2044,2868\n",
    "s=np.array([93.70165,86.13942,162.11107])#,116.61904,123.61230,396.88789,628.87201,1147.13556])\n",
    "precision=5000\n",
    "measurement_times = np.array([2,4,6])#np.arange(len(measurement_data))  \n",
    "# and we define where to store the results\n",
    "\n",
    "history = abc.new(db_path, {\"Contamination\": measurement_data,\"sd\": s})"
   ]
  },
  {
   "cell_type": "markdown",
   "metadata": {},
   "source": [
    "# Running the ABC"
   ]
  },
  {
   "cell_type": "code",
   "execution_count": 14,
   "metadata": {},
   "outputs": [
    {
     "name": "stderr",
     "output_type": "stream",
     "text": [
      "ABC.History INFO: Done <ABCSMC id=1, duration=0:00:31.997366, end_time=2022-04-21 20:23:03>\n"
     ]
    },
    {
     "ename": "TypeError",
     "evalue": "Cannot parse variable Contamination=[array([349.46401948]), array([679.40785313]), array([982.16835141])] of type <class 'list'> to numeric.",
     "output_type": "error",
     "traceback": [
      "\u001b[0;31m---------------------------------------------------------------------------\u001b[0m",
      "\u001b[0;31mTypeError\u001b[0m                                 Traceback (most recent call last)",
      "\u001b[0;32m<ipython-input-14-20476adc82f9>\u001b[0m in \u001b[0;36m<module>\u001b[0;34m\u001b[0m\n\u001b[1;32m      1\u001b[0m \u001b[0;31m# We run the ABC until either criterion is met\u001b[0m\u001b[0;34m\u001b[0m\u001b[0;34m\u001b[0m\u001b[0;34m\u001b[0m\u001b[0m\n\u001b[0;32m----> 2\u001b[0;31m \u001b[0mhistory\u001b[0m \u001b[0;34m=\u001b[0m \u001b[0mabc\u001b[0m\u001b[0;34m.\u001b[0m\u001b[0mrun\u001b[0m\u001b[0;34m(\u001b[0m\u001b[0mmax_nr_populations\u001b[0m\u001b[0;34m=\u001b[0m\u001b[0;36m7\u001b[0m\u001b[0;34m)\u001b[0m\u001b[0;34m\u001b[0m\u001b[0;34m\u001b[0m\u001b[0m\n\u001b[0m",
      "\u001b[0;32m~/opt/anaconda3/lib/python3.8/site-packages/pyabc/inference/smc.py\u001b[0m in \u001b[0;36mwrapped_run\u001b[0;34m(self, *args, **kwargs)\u001b[0m\n\u001b[1;32m     60\u001b[0m         \u001b[0;32mtry\u001b[0m\u001b[0;34m:\u001b[0m\u001b[0;34m\u001b[0m\u001b[0;34m\u001b[0m\u001b[0m\n\u001b[1;32m     61\u001b[0m             \u001b[0;31m# the actual run\u001b[0m\u001b[0;34m\u001b[0m\u001b[0;34m\u001b[0m\u001b[0;34m\u001b[0m\u001b[0m\n\u001b[0;32m---> 62\u001b[0;31m             \u001b[0mret\u001b[0m \u001b[0;34m=\u001b[0m \u001b[0mrun\u001b[0m\u001b[0;34m(\u001b[0m\u001b[0mself\u001b[0m\u001b[0;34m,\u001b[0m \u001b[0;34m*\u001b[0m\u001b[0margs\u001b[0m\u001b[0;34m,\u001b[0m \u001b[0;34m**\u001b[0m\u001b[0mkwargs\u001b[0m\u001b[0;34m)\u001b[0m\u001b[0;34m\u001b[0m\u001b[0;34m\u001b[0m\u001b[0m\n\u001b[0m\u001b[1;32m     63\u001b[0m         \u001b[0;32mfinally\u001b[0m\u001b[0;34m:\u001b[0m\u001b[0;34m\u001b[0m\u001b[0;34m\u001b[0m\u001b[0m\n\u001b[1;32m     64\u001b[0m             \u001b[0;31m# close session and store end time\u001b[0m\u001b[0;34m\u001b[0m\u001b[0;34m\u001b[0m\u001b[0;34m\u001b[0m\u001b[0m\n",
      "\u001b[0;32m~/opt/anaconda3/lib/python3.8/site-packages/pyabc/inference/smc.py\u001b[0m in \u001b[0;36mrun\u001b[0;34m(self, minimum_epsilon, max_nr_populations, min_acceptance_rate, max_total_nr_simulations, max_walltime, min_eps_diff)\u001b[0m\n\u001b[1;32m    683\u001b[0m         \u001b[0mafter\u001b[0m \u001b[0msampling\u001b[0m \u001b[0mwas\u001b[0m \u001b[0mstopped\u001b[0m \u001b[0monce\u001b[0m\u001b[0;34m.\u001b[0m\u001b[0;34m\u001b[0m\u001b[0;34m\u001b[0m\u001b[0m\n\u001b[1;32m    684\u001b[0m         \"\"\"\n\u001b[0;32m--> 685\u001b[0;31m         t0: int = self.initialize_components_before_run(\n\u001b[0m\u001b[1;32m    686\u001b[0m             \u001b[0mminimum_epsilon\u001b[0m\u001b[0;34m=\u001b[0m\u001b[0mminimum_epsilon\u001b[0m\u001b[0;34m,\u001b[0m\u001b[0;34m\u001b[0m\u001b[0;34m\u001b[0m\u001b[0m\n\u001b[1;32m    687\u001b[0m             \u001b[0mmax_nr_populations\u001b[0m\u001b[0;34m=\u001b[0m\u001b[0mmax_nr_populations\u001b[0m\u001b[0;34m,\u001b[0m\u001b[0;34m\u001b[0m\u001b[0;34m\u001b[0m\u001b[0m\n",
      "\u001b[0;32m~/opt/anaconda3/lib/python3.8/site-packages/pyabc/inference/smc.py\u001b[0m in \u001b[0;36minitialize_components_before_run\u001b[0;34m(self, minimum_epsilon, max_nr_populations, min_acceptance_rate, max_total_nr_simulations, max_walltime, min_eps_diff)\u001b[0m\n\u001b[1;32m    764\u001b[0m         \u001b[0mself\u001b[0m\u001b[0;34m.\u001b[0m\u001b[0m_adapt_population_size\u001b[0m\u001b[0;34m(\u001b[0m\u001b[0mt0\u001b[0m\u001b[0;34m)\u001b[0m\u001b[0;34m\u001b[0m\u001b[0;34m\u001b[0m\u001b[0m\n\u001b[1;32m    765\u001b[0m         \u001b[0;31m# sample from prior to calibrate distance, epsilon, and acceptor\u001b[0m\u001b[0;34m\u001b[0m\u001b[0;34m\u001b[0m\u001b[0;34m\u001b[0m\u001b[0m\n\u001b[0;32m--> 766\u001b[0;31m         \u001b[0mself\u001b[0m\u001b[0;34m.\u001b[0m\u001b[0m_initialize_dist_eps_acc\u001b[0m\u001b[0;34m(\u001b[0m\u001b[0mt0\u001b[0m\u001b[0;34m)\u001b[0m\u001b[0;34m\u001b[0m\u001b[0;34m\u001b[0m\u001b[0m\n\u001b[0m\u001b[1;32m    767\u001b[0m \u001b[0;34m\u001b[0m\u001b[0m\n\u001b[1;32m    768\u001b[0m         \u001b[0;31m# configure recording of rejected particles\u001b[0m\u001b[0;34m\u001b[0m\u001b[0;34m\u001b[0m\u001b[0;34m\u001b[0m\u001b[0m\n",
      "\u001b[0;32m~/opt/anaconda3/lib/python3.8/site-packages/pyabc/inference/smc.py\u001b[0m in \u001b[0;36m_initialize_dist_eps_acc\u001b[0;34m(self, t)\u001b[0m\n\u001b[1;32m    490\u001b[0m             \u001b[0;32mreturn\u001b[0m \u001b[0mrecords\u001b[0m\u001b[0;34m\u001b[0m\u001b[0;34m\u001b[0m\u001b[0m\n\u001b[1;32m    491\u001b[0m \u001b[0;34m\u001b[0m\u001b[0m\n\u001b[0;32m--> 492\u001b[0;31m         self.eps.initialize(\n\u001b[0m\u001b[1;32m    493\u001b[0m             \u001b[0mt\u001b[0m\u001b[0;34m=\u001b[0m\u001b[0mt\u001b[0m\u001b[0;34m,\u001b[0m\u001b[0;34m\u001b[0m\u001b[0;34m\u001b[0m\u001b[0m\n\u001b[1;32m    494\u001b[0m             \u001b[0mget_weighted_distances\u001b[0m\u001b[0;34m=\u001b[0m\u001b[0mget_initial_weighted_distances\u001b[0m\u001b[0;34m,\u001b[0m\u001b[0;34m\u001b[0m\u001b[0;34m\u001b[0m\u001b[0m\n",
      "\u001b[0;32m~/opt/anaconda3/lib/python3.8/site-packages/pyabc/epsilon/epsilon.py\u001b[0m in \u001b[0;36minitialize\u001b[0;34m(self, t, get_weighted_distances, get_all_records, max_nr_populations, acceptor_config)\u001b[0m\n\u001b[1;32m    150\u001b[0m \u001b[0;34m\u001b[0m\u001b[0m\n\u001b[1;32m    151\u001b[0m         \u001b[0;31m# execute function\u001b[0m\u001b[0;34m\u001b[0m\u001b[0;34m\u001b[0m\u001b[0;34m\u001b[0m\u001b[0m\n\u001b[0;32m--> 152\u001b[0;31m         \u001b[0mweighted_distances\u001b[0m \u001b[0;34m=\u001b[0m \u001b[0mget_weighted_distances\u001b[0m\u001b[0;34m(\u001b[0m\u001b[0;34m)\u001b[0m\u001b[0;34m\u001b[0m\u001b[0;34m\u001b[0m\u001b[0m\n\u001b[0m\u001b[1;32m    153\u001b[0m \u001b[0;34m\u001b[0m\u001b[0m\n\u001b[1;32m    154\u001b[0m         \u001b[0;31m# initialize epsilon\u001b[0m\u001b[0;34m\u001b[0m\u001b[0;34m\u001b[0m\u001b[0;34m\u001b[0m\u001b[0m\n",
      "\u001b[0;32m~/opt/anaconda3/lib/python3.8/site-packages/pyabc/inference/smc.py\u001b[0m in \u001b[0;36mget_initial_weighted_distances\u001b[0;34m()\u001b[0m\n\u001b[1;32m    456\u001b[0m \u001b[0;34m\u001b[0m\u001b[0m\n\u001b[1;32m    457\u001b[0m         \u001b[0;32mdef\u001b[0m \u001b[0mget_initial_weighted_distances\u001b[0m\u001b[0;34m(\u001b[0m\u001b[0;34m)\u001b[0m\u001b[0;34m:\u001b[0m\u001b[0;34m\u001b[0m\u001b[0;34m\u001b[0m\u001b[0m\n\u001b[0;32m--> 458\u001b[0;31m             \u001b[0mpopulation\u001b[0m \u001b[0;34m=\u001b[0m \u001b[0m_get_initial_population_with_distances\u001b[0m\u001b[0;34m(\u001b[0m\u001b[0;34m)\u001b[0m\u001b[0;34m\u001b[0m\u001b[0;34m\u001b[0m\u001b[0m\n\u001b[0m\u001b[1;32m    459\u001b[0m             \u001b[0mweighted_distances\u001b[0m \u001b[0;34m=\u001b[0m \u001b[0mpopulation\u001b[0m\u001b[0;34m.\u001b[0m\u001b[0mget_weighted_distances\u001b[0m\u001b[0;34m(\u001b[0m\u001b[0;34m)\u001b[0m\u001b[0;34m\u001b[0m\u001b[0;34m\u001b[0m\u001b[0m\n\u001b[1;32m    460\u001b[0m             \u001b[0;32mreturn\u001b[0m \u001b[0mweighted_distances\u001b[0m\u001b[0;34m\u001b[0m\u001b[0;34m\u001b[0m\u001b[0m\n",
      "\u001b[0;32m~/opt/anaconda3/lib/python3.8/site-packages/pyabc/inference/smc.py\u001b[0m in \u001b[0;36m_get_initial_population_with_distances\u001b[0;34m()\u001b[0m\n\u001b[1;32m    452\u001b[0m                 \u001b[0;32mreturn\u001b[0m \u001b[0mself\u001b[0m\u001b[0;34m.\u001b[0m\u001b[0mdistance_function\u001b[0m\u001b[0;34m(\u001b[0m\u001b[0mx\u001b[0m\u001b[0;34m,\u001b[0m \u001b[0mself\u001b[0m\u001b[0;34m.\u001b[0m\u001b[0mx_0\u001b[0m\u001b[0;34m,\u001b[0m \u001b[0mt\u001b[0m\u001b[0;34m,\u001b[0m \u001b[0mpar\u001b[0m\u001b[0;34m)\u001b[0m\u001b[0;34m\u001b[0m\u001b[0;34m\u001b[0m\u001b[0m\n\u001b[1;32m    453\u001b[0m \u001b[0;34m\u001b[0m\u001b[0m\n\u001b[0;32m--> 454\u001b[0;31m             \u001b[0mpopulation\u001b[0m\u001b[0;34m.\u001b[0m\u001b[0mupdate_distances\u001b[0m\u001b[0;34m(\u001b[0m\u001b[0mdistance_to_ground_truth\u001b[0m\u001b[0;34m)\u001b[0m\u001b[0;34m\u001b[0m\u001b[0;34m\u001b[0m\u001b[0m\n\u001b[0m\u001b[1;32m    455\u001b[0m             \u001b[0;32mreturn\u001b[0m \u001b[0mpopulation\u001b[0m\u001b[0;34m\u001b[0m\u001b[0;34m\u001b[0m\u001b[0m\n\u001b[1;32m    456\u001b[0m \u001b[0;34m\u001b[0m\u001b[0m\n",
      "\u001b[0;32m~/opt/anaconda3/lib/python3.8/site-packages/pyabc/population.py\u001b[0m in \u001b[0;36mupdate_distances\u001b[0;34m(self, distance_to_ground_truth)\u001b[0m\n\u001b[1;32m    159\u001b[0m \u001b[0;34m\u001b[0m\u001b[0m\n\u001b[1;32m    160\u001b[0m         \u001b[0;32mfor\u001b[0m \u001b[0mparticle\u001b[0m \u001b[0;32min\u001b[0m \u001b[0mself\u001b[0m\u001b[0;34m.\u001b[0m\u001b[0mparticles\u001b[0m\u001b[0;34m:\u001b[0m\u001b[0;34m\u001b[0m\u001b[0;34m\u001b[0m\u001b[0m\n\u001b[0;32m--> 161\u001b[0;31m             particle.distance = distance_to_ground_truth(\n\u001b[0m\u001b[1;32m    162\u001b[0m                 \u001b[0mparticle\u001b[0m\u001b[0;34m.\u001b[0m\u001b[0msum_stat\u001b[0m\u001b[0;34m,\u001b[0m \u001b[0mparticle\u001b[0m\u001b[0;34m.\u001b[0m\u001b[0mparameter\u001b[0m\u001b[0;34m\u001b[0m\u001b[0;34m\u001b[0m\u001b[0m\n\u001b[1;32m    163\u001b[0m             )\n",
      "\u001b[0;32m~/opt/anaconda3/lib/python3.8/site-packages/pyabc/inference/smc.py\u001b[0m in \u001b[0;36mdistance_to_ground_truth\u001b[0;34m(x, par)\u001b[0m\n\u001b[1;32m    450\u001b[0m \u001b[0;34m\u001b[0m\u001b[0m\n\u001b[1;32m    451\u001b[0m             \u001b[0;32mdef\u001b[0m \u001b[0mdistance_to_ground_truth\u001b[0m\u001b[0;34m(\u001b[0m\u001b[0mx\u001b[0m\u001b[0;34m,\u001b[0m \u001b[0mpar\u001b[0m\u001b[0;34m)\u001b[0m\u001b[0;34m:\u001b[0m\u001b[0;34m\u001b[0m\u001b[0;34m\u001b[0m\u001b[0m\n\u001b[0;32m--> 452\u001b[0;31m                 \u001b[0;32mreturn\u001b[0m \u001b[0mself\u001b[0m\u001b[0;34m.\u001b[0m\u001b[0mdistance_function\u001b[0m\u001b[0;34m(\u001b[0m\u001b[0mx\u001b[0m\u001b[0;34m,\u001b[0m \u001b[0mself\u001b[0m\u001b[0;34m.\u001b[0m\u001b[0mx_0\u001b[0m\u001b[0;34m,\u001b[0m \u001b[0mt\u001b[0m\u001b[0;34m,\u001b[0m \u001b[0mpar\u001b[0m\u001b[0;34m)\u001b[0m\u001b[0;34m\u001b[0m\u001b[0;34m\u001b[0m\u001b[0m\n\u001b[0m\u001b[1;32m    453\u001b[0m \u001b[0;34m\u001b[0m\u001b[0m\n\u001b[1;32m    454\u001b[0m             \u001b[0mpopulation\u001b[0m\u001b[0;34m.\u001b[0m\u001b[0mupdate_distances\u001b[0m\u001b[0;34m(\u001b[0m\u001b[0mdistance_to_ground_truth\u001b[0m\u001b[0;34m)\u001b[0m\u001b[0;34m\u001b[0m\u001b[0;34m\u001b[0m\u001b[0m\n",
      "\u001b[0;32m~/opt/anaconda3/lib/python3.8/site-packages/pyabc/distance/pnorm.py\u001b[0m in \u001b[0;36m__call__\u001b[0;34m(self, x, x_0, t, par)\u001b[0m\n\u001b[1;32m    211\u001b[0m \u001b[0;34m\u001b[0m\u001b[0m\n\u001b[1;32m    212\u001b[0m         \u001b[0;31m# compute summary statistics\u001b[0m\u001b[0;34m\u001b[0m\u001b[0;34m\u001b[0m\u001b[0;34m\u001b[0m\u001b[0m\n\u001b[0;32m--> 213\u001b[0;31m         \u001b[0ms\u001b[0m\u001b[0;34m,\u001b[0m \u001b[0ms0\u001b[0m \u001b[0;34m=\u001b[0m \u001b[0mself\u001b[0m\u001b[0;34m.\u001b[0m\u001b[0msumstat\u001b[0m\u001b[0;34m(\u001b[0m\u001b[0mx\u001b[0m\u001b[0;34m)\u001b[0m\u001b[0;34m.\u001b[0m\u001b[0mflatten\u001b[0m\u001b[0;34m(\u001b[0m\u001b[0;34m)\u001b[0m\u001b[0;34m,\u001b[0m \u001b[0mself\u001b[0m\u001b[0;34m.\u001b[0m\u001b[0msumstat\u001b[0m\u001b[0;34m(\u001b[0m\u001b[0mx_0\u001b[0m\u001b[0;34m)\u001b[0m\u001b[0;34m.\u001b[0m\u001b[0mflatten\u001b[0m\u001b[0;34m(\u001b[0m\u001b[0;34m)\u001b[0m\u001b[0;34m\u001b[0m\u001b[0;34m\u001b[0m\u001b[0m\n\u001b[0m\u001b[1;32m    214\u001b[0m \u001b[0;34m\u001b[0m\u001b[0m\n\u001b[1;32m    215\u001b[0m         \u001b[0;31m# assert shapes match\u001b[0m\u001b[0;34m\u001b[0m\u001b[0;34m\u001b[0m\u001b[0;34m\u001b[0m\u001b[0m\n",
      "\u001b[0;32m~/opt/anaconda3/lib/python3.8/site-packages/pyabc/util/dict2arr.py\u001b[0m in \u001b[0;36mwrapped_fun\u001b[0;34m(self, data, *args, **kwargs)\u001b[0m\n\u001b[1;32m     92\u001b[0m     \u001b[0;32mdef\u001b[0m \u001b[0mwrapped_fun\u001b[0m\u001b[0;34m(\u001b[0m\u001b[0mself\u001b[0m\u001b[0;34m,\u001b[0m \u001b[0mdata\u001b[0m\u001b[0;34m:\u001b[0m \u001b[0mUnion\u001b[0m\u001b[0;34m[\u001b[0m\u001b[0mdict\u001b[0m\u001b[0;34m,\u001b[0m \u001b[0mnp\u001b[0m\u001b[0;34m.\u001b[0m\u001b[0mndarray\u001b[0m\u001b[0;34m]\u001b[0m\u001b[0;34m,\u001b[0m \u001b[0;34m*\u001b[0m\u001b[0margs\u001b[0m\u001b[0;34m,\u001b[0m \u001b[0;34m**\u001b[0m\u001b[0mkwargs\u001b[0m\u001b[0;34m)\u001b[0m\u001b[0;34m:\u001b[0m\u001b[0;34m\u001b[0m\u001b[0;34m\u001b[0m\u001b[0m\n\u001b[1;32m     93\u001b[0m         \u001b[0;31m# convert input to array\u001b[0m\u001b[0;34m\u001b[0m\u001b[0;34m\u001b[0m\u001b[0;34m\u001b[0m\u001b[0m\n\u001b[0;32m---> 94\u001b[0;31m         \u001b[0mdata\u001b[0m \u001b[0;34m=\u001b[0m \u001b[0mdict2arr\u001b[0m\u001b[0;34m(\u001b[0m\u001b[0mdata\u001b[0m\u001b[0;34m,\u001b[0m \u001b[0mself\u001b[0m\u001b[0;34m.\u001b[0m\u001b[0mx_keys\u001b[0m\u001b[0;34m)\u001b[0m\u001b[0;34m\u001b[0m\u001b[0;34m\u001b[0m\u001b[0m\n\u001b[0m\u001b[1;32m     95\u001b[0m         \u001b[0;31m# call the actual function\u001b[0m\u001b[0;34m\u001b[0m\u001b[0;34m\u001b[0m\u001b[0;34m\u001b[0m\u001b[0m\n\u001b[1;32m     96\u001b[0m         \u001b[0mret\u001b[0m\u001b[0;34m:\u001b[0m \u001b[0mnp\u001b[0m\u001b[0;34m.\u001b[0m\u001b[0mndarray\u001b[0m \u001b[0;34m=\u001b[0m \u001b[0mfun\u001b[0m\u001b[0;34m(\u001b[0m\u001b[0mself\u001b[0m\u001b[0;34m,\u001b[0m \u001b[0mdata\u001b[0m\u001b[0;34m,\u001b[0m \u001b[0;34m*\u001b[0m\u001b[0margs\u001b[0m\u001b[0;34m,\u001b[0m \u001b[0;34m**\u001b[0m\u001b[0mkwargs\u001b[0m\u001b[0;34m)\u001b[0m\u001b[0;34m\u001b[0m\u001b[0;34m\u001b[0m\u001b[0m\n",
      "\u001b[0;32m~/opt/anaconda3/lib/python3.8/site-packages/pyabc/util/dict2arr.py\u001b[0m in \u001b[0;36mdict2arr\u001b[0;34m(dct, keys)\u001b[0m\n\u001b[1;32m     34\u001b[0m             \u001b[0marr\u001b[0m\u001b[0;34m.\u001b[0m\u001b[0mappend\u001b[0m\u001b[0;34m(\u001b[0m\u001b[0;34m[\u001b[0m\u001b[0mval\u001b[0m\u001b[0;34m]\u001b[0m\u001b[0;34m)\u001b[0m\u001b[0;34m\u001b[0m\u001b[0;34m\u001b[0m\u001b[0m\n\u001b[1;32m     35\u001b[0m         \u001b[0;32melse\u001b[0m\u001b[0;34m:\u001b[0m\u001b[0;34m\u001b[0m\u001b[0;34m\u001b[0m\u001b[0m\n\u001b[0;32m---> 36\u001b[0;31m             raise TypeError(\n\u001b[0m\u001b[1;32m     37\u001b[0m                 \u001b[0;34mf\"Cannot parse variable {key}={val} of type {type(val)} \"\u001b[0m\u001b[0;34m\u001b[0m\u001b[0;34m\u001b[0m\u001b[0m\n\u001b[1;32m     38\u001b[0m                 \u001b[0;34m\"to numeric.\"\u001b[0m\u001b[0;34m\u001b[0m\u001b[0;34m\u001b[0m\u001b[0m\n",
      "\u001b[0;31mTypeError\u001b[0m: Cannot parse variable Contamination=[array([349.46401948]), array([679.40785313]), array([982.16835141])] of type <class 'list'> to numeric."
     ]
    }
   ],
   "source": [
    "# We run the ABC until either criterion is met\n",
    "history = abc.run(max_nr_populations=7)"
   ]
  },
  {
   "cell_type": "markdown",
   "metadata": {},
   "source": [
    "# Visualisations of Variables\n",
    "Simulated trajectories plotted against observed experimental data"
   ]
  },
  {
   "cell_type": "markdown",
   "metadata": {},
   "source": [
    "# Visualise the probability density functions\n"
   ]
  },
  {
   "cell_type": "markdown",
   "metadata": {},
   "source": []
  },
  {
   "cell_type": "code",
   "execution_count": null,
   "metadata": {},
   "outputs": [],
   "source": [
    "from pyabc.visualization import plot_kde_matrix\n",
    "\n",
    "df, w = history.get_distribution(m=0)\n",
    "plot_kde_matrix(df, w);"
   ]
  },
  {
   "cell_type": "markdown",
   "metadata": {},
   "source": [
    "## Visualise how the parameters converge over populations"
   ]
  },
  {
   "cell_type": "code",
   "execution_count": null,
   "metadata": {},
   "outputs": [],
   "source": [
    "fig, ax = plt.subplots()\n",
    "for t in range(history.max_t + 1):\n",
    "    df, w = history.get_distribution(m=0, t=t)\n",
    "    pyabc.visualization.plot_kde_1d(\n",
    "        df,\n",
    "        w,\n",
    "        xmin=0,\n",
    "        xmax=40,\n",
    "        x=\"r\",\n",
    "        xname=r\"$r$\",\n",
    "        ax=ax,\n",
    "        label=f\"PDF t={t}\",\n",
    "    )\n",
    "ax.axvline(20, color=\"k\", linestyle=\"dashed\")\n",
    "ax.legend();"
   ]
  },
  {
   "cell_type": "markdown",
   "metadata": {},
   "source": [
    "# Summary statistics\n",
    "\n",
    "First some summary statistics and save to file"
   ]
  },
  {
   "cell_type": "code",
   "execution_count": null,
   "metadata": {},
   "outputs": [],
   "source": [
    "df.to_csv(\"../Data/abc_results.csv\", encoding='utf-8', index=False)\n",
    "df.describe()"
   ]
  },
  {
   "cell_type": "markdown",
   "metadata": {},
   "source": [
    "# Plot some trajectories\n"
   ]
  },
  {
   "cell_type": "code",
   "execution_count": null,
   "metadata": {},
   "outputs": [],
   "source": [
    "import pandas as pd\n",
    "import operator\n",
    "\n",
    "\n",
    "#plot some curves from the ODE model\n",
    "precision=5000\n",
    "tmax = 6\n",
    "time_space = np.linspace(0,tmax,precision+1)#precision+1?\n",
    "\n",
    "P=odeint(ode_model,initial_contamination,time_space,args=(df[\"r\"].mean(),df[\"C\"].mean(),df[\"d\"].mean(),df[\"g\"].mean()))\n",
    "Pmin=odeint(ode_model,initial_contamination,time_space,args=(df[\"r\"].quantile(0.05),df[\"C\"].quantile(0.05),df[\"d\"].quantile(0.05),df[\"g\"].quantile(0.05)))\n",
    "Pmax=odeint(ode_model,initial_contamination,time_space,args=(df[\"r\"].quantile(0.95),df[\"C\"].quantile(0.95),df[\"d\"].quantile(0.95),df[\"g\"].quantile(0.95)))\n",
    "\n",
    "#P=ode_model({\"af\":df[\"af\"].mean(),\"cs\":df[\"cs\"].mean(),\"lam\":df[\"lam\"].mean()})\n",
    "#Pmin=ode_model({\"af\":df[\"af\"].quantile(0.05),\"cs\":df[\"cs\"].quantile(0.05),\"lam\":df[\"lam\"].quantile(0.05)})\n",
    "#Pmax=ode_model({\"af\":df[\"af\"].quantile(0.95),\"cs\":df[\"cs\"].quantile(0.95),\"lam\":df[\"lam\"].quantile(0.95)})\n",
    "\n",
    "# create a vector of values between 0 and 6\n",
    "x = np.array([0,2,4,6])\n",
    "\n",
    "#Define new sd just for plotting to avoid SD value at 0\n",
    "s=np.array([385,93.70165,86.13942,162.11107])\n",
    "measurement_data = np.array([1200,134.0,202.0,294.0])\n",
    "\n",
    "#Plot errobars of experimental data\n",
    "x = np.array([0,2,4,6])\n",
    "plt.errorbar(x,measurement_data,yerr=s,fmt='o', color='black',label='Experimental data')\n",
    "\n",
    "#Plot the model prediction\n",
    "plt.plot(time_space,P,label=\"Model prediction\",color='blue')\n",
    "\n",
    "#Plot confidence intervals around the model prediction\n",
    "plt.fill_between(x,Pmin,Pmax,alpha=0.2,color='blue')\n",
    "\n",
    "\n",
    "\n",
    "#plt.fill_between(x, np.array(map(operator.sub, P[\"Contamination\"], Pmin[\"Contamination\"])), np.array(map(operator.add, P[\"Contamination\"], Pmax[\"Contamination\"])), color='b', alpha=.1)\n",
    "plt.xlim(-1,8)\n",
    "plt.ylabel(\"CUF recovered from finger \\n after t hours\")\n",
    "plt.xlabel(\"Number of contacts\")\n",
    "plt.legend(loc=\"upper left\")\n",
    "\n",
    "\n",
    "#save the plot\n",
    "#plt.savefig(\"../Images/abc_prediction.png\", dpi=600)\n",
    "\n",
    "plt.show()"
   ]
  },
  {
   "cell_type": "code",
   "execution_count": null,
   "metadata": {},
   "outputs": [],
   "source": [
    "#print the shape of time_space\n",
    "print(odeint(ode_model,initial_contamination,time_space,args=(df[\"r\"].mean(),df[\"C\"].mean(),df[\"d\"].mean(),df[\"g\"].mean())))"
   ]
  }
 ],
 "metadata": {
  "interpreter": {
   "hash": "95fa8d10f2e08061f6c76d763905f78bd3cfa45000683d26ef07ab31975d3cfe"
  },
  "kernelspec": {
   "display_name": "Python 3.7.6 ('base')",
   "language": "python",
   "name": "python3"
  },
  "language_info": {
   "codemirror_mode": {
    "name": "ipython",
    "version": 3
   },
   "file_extension": ".py",
   "mimetype": "text/x-python",
   "name": "python",
   "nbconvert_exporter": "python",
   "pygments_lexer": "ipython3",
   "version": "3.8.8"
  },
  "orig_nbformat": 4
 },
 "nbformat": 4,
 "nbformat_minor": 2
}
