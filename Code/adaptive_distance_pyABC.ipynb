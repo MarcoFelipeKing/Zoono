{
 "cells": [
  {
   "cell_type": "markdown",
   "metadata": {},
   "source": [
    "# Adaptive distances ABC-SMC \n",
    "Set up requrirements and experimental data"
   ]
  },
  {
   "cell_type": "code",
   "execution_count": 1,
   "metadata": {},
   "outputs": [],
   "source": [
    "#!/usr/bin/env python3\n",
    "# -*- coding: utf-8 -*-\n",
    "\"\"\"\n",
    "Created on Sun Jun 22 18:22:52 2020\n",
    "\n",
    "@author: marcofking\n",
    "\"\"\"\n",
    "import pyabc as pyabc\n",
    "from pyabc import (ABCSMC,\n",
    "                   RV, Distribution,\n",
    "                   MedianEpsilon,\n",
    "                   LocalTransition)\n",
    "from pyabc.visualization import plot_kde_2d, plot_data_callback\n",
    "import matplotlib.pyplot as plt\n",
    "import os\n",
    "import tempfile\n",
    "import numpy as np\n",
    "#import scipy as sp\n",
    "from scipy.integrate import odeint\n",
    "import math\n",
    "import seaborn as sns\n",
    "#pyabc.settings.set_figure_params('pyabc')  # for beautified plots\n",
    "db_path = (\"sqlite:///\" +\n",
    "           os.path.join(tempfile.gettempdir(), \"test5.db\"))\n",
    "\n"
   ]
  },
  {
   "cell_type": "markdown",
   "metadata": {},
   "source": [
    "# Define the ODE to solve \n",
    "\n",
    "We consider only recontamination from surface contacts, not from additional proliferation of the bacterias on the hands.\n",
    "$$ y'=(1-\\dfrac{y}{C})r-d\\exp(-g t)y$$\n",
    "\n",
    "$C$ is carrying capacity. $d$ is . $g$ is decay from the disinfectant.\n",
    "\n",
    "If we wanted to consider proliferation on hands as well as from surface contacts then we could use:\n",
    "$$ y'=C(1-\\dfrac{y}{C})l-d\\exp(-g t)y$$\n",
    "\n",
    "where $l$ is the rate at which microorganisms proliferate on hands. E.g. reproduction.\n",
    "\n",
    "\n",
    "Currently we only consider the first 4 experimental datapoints as there is a gap which is hard to explain using this model-"
   ]
  },
  {
   "cell_type": "code",
   "execution_count": 2,
   "metadata": {},
   "outputs": [],
   "source": [
    "#Here we defien the ODE model\n",
    "def ode_model(contamination,t,r,C,d,g):\n",
    "    Contamination = contamination;\n",
    "    return(r*(1-Contamination/C)-d*math.exp(-g*t)*Contamination)\n",
    "\n",
    "#Here we create the input parameters and extract only specific time-points\n",
    "def deterministic_run(parameters):#precision,initial_contamination,r,C,d,g):\n",
    "    precision=5000\n",
    "    tmax = 6\n",
    "    time_space = np.linspace(0,tmax,precision+1)#precision+1?\n",
    "    sim=odeint(ode_model,initial_contamination,time_space,args=(parameters[\"r\"],parameters[\"C\"],parameters[\"d\"],parameters[\"g\"]))\n",
    "    #num_at_0=sim[int(precision*0.1/50.0)]\n",
    "    #num_at_1=sim[int(precision*1/tmax)]\n",
    "    num_at_2=sim[int(precision*2/tmax)]\n",
    "    num_at_4=sim[int(precision*4/tmax)]\n",
    "    num_at_6=sim[int(precision*6/tmax)]\n",
    "   # num_at_16=sim[int(precision*16/tmax)]\n",
    "   # num_at_18=sim[int(precision*18/tmax)]\n",
    "   # num_at_20=sim[int(precision*20/tmax)]\n",
    "   # num_at_22=sim[int(precision*22/tmax)]\n",
    "   # num_at_24=sim[int(precision*24/tmax)]\n",
    "    #return{\"Contamination\":[num_at_2,num_at_4,num_at_6,num_at_16,num_at_18,num_at_20,num_at_22,num_at_24]+ sigma*np.random.randn(8)}\n",
    "    return{\"Contamination\":[num_at_2,num_at_4,num_at_6]}"
   ]
  },
  {
   "cell_type": "markdown",
   "metadata": {},
   "source": [
    "# Define the parameter priors\n",
    "\n",
    "We choose some examples to see how well it works."
   ]
  },
  {
   "cell_type": "code",
   "execution_count": 9,
   "metadata": {},
   "outputs": [],
   "source": [
    "parameter_prior = Distribution(r=RV(\"uniform\", 0.0, 200.0),\n",
    "                               C=RV(\"uniform\", 1000.0, 6000.0),\n",
    "                               d=RV(\"uniform\", 10.0, 1000.0),\n",
    "                               g=RV(\"uniform\", 2.0, 200.0))\n",
    "\n",
    "#parameter_prior.get_parameter_names()"
   ]
  },
  {
   "cell_type": "markdown",
   "metadata": {},
   "source": [
    "# Define the distance fuction\n",
    "We propose to use the PCMAD (Perhaps-Combined MAD), which either uses MAD, or, if the fraction of severe outliers detected is not too high (precisely not more than 1/3, see the publication and the API for details), uses MAD + MADO, where MADO is the median absolute deviation to the observed value."
   ]
  },
  {
   "cell_type": "code",
   "execution_count": 10,
   "metadata": {},
   "outputs": [],
   "source": [
    "# def distance(simulation, data):\n",
    "#     return np.absolute((data[\"Contamination\"] - simulation[\"Contamination\"])/data[\"sd\"]).sum()\n"
   ]
  },
  {
   "cell_type": "markdown",
   "metadata": {},
   "source": [
    "# Set up the ABC SMC \n"
   ]
  },
  {
   "cell_type": "code",
   "execution_count": 11,
   "metadata": {},
   "outputs": [
    {
     "name": "stderr",
     "output_type": "stream",
     "text": [
      "INFO:Sampler:Parallelizing the sampling on 8 cores.\n"
     ]
    }
   ],
   "source": [
    "distance = pyabc.PNormDistance(p=2)\n",
    "\n",
    "abc = pyabc.ABCSMC(models=deterministic_run,parameter_priors=parameter_prior, distance_function=distance)\n"
   ]
  },
  {
   "cell_type": "code",
   "execution_count": null,
   "metadata": {},
   "outputs": [],
   "source": []
  },
  {
   "cell_type": "markdown",
   "metadata": {},
   "source": [
    "# Setting the observed data"
   ]
  },
  {
   "cell_type": "markdown",
   "metadata": {},
   "source": []
  },
  {
   "cell_type": "code",
   "execution_count": 12,
   "metadata": {},
   "outputs": [
    {
     "name": "stderr",
     "output_type": "stream",
     "text": [
      "INFO:History:Start <ABCSMC(id=2, start_time=2022-04-12 10:46:29.924843, end_time=None)>\n"
     ]
    }
   ],
   "source": [
    "# y_observed is the important piece here: our actual observation.\n",
    "initial_contamination=1200.0\n",
    "measurement_data = np.array([134.0,202.0,294.0]) #,400,644,1232,2044,2868\n",
    "s=np.array([93.70165,86.13942,162.11107])#,116.61904,123.61230,396.88789,628.87201,1147.13556])\n",
    "precision=5000\n",
    "measurement_times = np.array([2,4,6])#np.arange(len(measurement_data))  \n",
    "# and we define where to store the results\n",
    "\n",
    "history = abc.new(db_path, {\"Contamination\": measurement_data,\"sd\": s})"
   ]
  },
  {
   "cell_type": "markdown",
   "metadata": {},
   "source": [
    "# Running the ABC"
   ]
  },
  {
   "cell_type": "code",
   "execution_count": 13,
   "metadata": {},
   "outputs": [
    {
     "name": "stderr",
     "output_type": "stream",
     "text": [
      "INFO:ABC:Calibration sample before t=0.\n"
     ]
    },
    {
     "ename": "ValueError",
     "evalue": "The truth value of an array with more than one element is ambiguous. Use a.any() or a.all()",
     "output_type": "error",
     "traceback": [
      "\u001b[0;31m---------------------------------------------------------------------------\u001b[0m",
      "\u001b[0;31mValueError\u001b[0m                                Traceback (most recent call last)",
      "\u001b[0;32m<ipython-input-13-20476adc82f9>\u001b[0m in \u001b[0;36m<module>\u001b[0;34m\u001b[0m\n\u001b[1;32m      1\u001b[0m \u001b[0;31m# We run the ABC until either criterion is met\u001b[0m\u001b[0;34m\u001b[0m\u001b[0;34m\u001b[0m\u001b[0;34m\u001b[0m\u001b[0m\n\u001b[0;32m----> 2\u001b[0;31m \u001b[0mhistory\u001b[0m \u001b[0;34m=\u001b[0m \u001b[0mabc\u001b[0m\u001b[0;34m.\u001b[0m\u001b[0mrun\u001b[0m\u001b[0;34m(\u001b[0m\u001b[0mmax_nr_populations\u001b[0m\u001b[0;34m=\u001b[0m\u001b[0;36m7\u001b[0m\u001b[0;34m)\u001b[0m\u001b[0;34m\u001b[0m\u001b[0;34m\u001b[0m\u001b[0m\n\u001b[0m",
      "\u001b[0;32m~/opt/anaconda3/lib/python3.7/site-packages/pyabc/smc.py\u001b[0m in \u001b[0;36mrun\u001b[0;34m(self, minimum_epsilon, max_nr_populations, min_acceptance_rate)\u001b[0m\n\u001b[1;32m    862\u001b[0m         \u001b[0mself\u001b[0m\u001b[0;34m.\u001b[0m\u001b[0m_adapt_population_size\u001b[0m\u001b[0;34m(\u001b[0m\u001b[0mt0\u001b[0m\u001b[0;34m)\u001b[0m\u001b[0;34m\u001b[0m\u001b[0;34m\u001b[0m\u001b[0m\n\u001b[1;32m    863\u001b[0m         \u001b[0;31m# sample from prior to calibrate distance, epsilon, and acceptor\u001b[0m\u001b[0;34m\u001b[0m\u001b[0;34m\u001b[0m\u001b[0;34m\u001b[0m\u001b[0m\n\u001b[0;32m--> 864\u001b[0;31m         \u001b[0mself\u001b[0m\u001b[0;34m.\u001b[0m\u001b[0m_initialize_dist_eps_acc\u001b[0m\u001b[0;34m(\u001b[0m\u001b[0mt0\u001b[0m\u001b[0;34m)\u001b[0m\u001b[0;34m\u001b[0m\u001b[0;34m\u001b[0m\u001b[0m\n\u001b[0m\u001b[1;32m    865\u001b[0m \u001b[0;34m\u001b[0m\u001b[0m\n\u001b[1;32m    866\u001b[0m         \u001b[0;31m# configure recording of rejected particles\u001b[0m\u001b[0;34m\u001b[0m\u001b[0;34m\u001b[0m\u001b[0;34m\u001b[0m\u001b[0m\n",
      "\u001b[0;32m~/opt/anaconda3/lib/python3.7/site-packages/pyabc/smc.py\u001b[0m in \u001b[0;36m_initialize_dist_eps_acc\u001b[0;34m(self, t)\u001b[0m\n\u001b[1;32m    444\u001b[0m             \u001b[0mt\u001b[0m\u001b[0;34m,\u001b[0m \u001b[0mget_initial_weighted_distances\u001b[0m\u001b[0;34m,\u001b[0m \u001b[0mget_initial_records\u001b[0m\u001b[0;34m,\u001b[0m\u001b[0;34m\u001b[0m\u001b[0;34m\u001b[0m\u001b[0m\n\u001b[1;32m    445\u001b[0m             \u001b[0mself\u001b[0m\u001b[0;34m.\u001b[0m\u001b[0mmax_nr_populations\u001b[0m\u001b[0;34m,\u001b[0m\u001b[0;34m\u001b[0m\u001b[0;34m\u001b[0m\u001b[0m\n\u001b[0;32m--> 446\u001b[0;31m             self.acceptor.get_epsilon_config(t))\n\u001b[0m\u001b[1;32m    447\u001b[0m \u001b[0;34m\u001b[0m\u001b[0m\n\u001b[1;32m    448\u001b[0m     \u001b[0;32mdef\u001b[0m \u001b[0m_get_initial_population\u001b[0m\u001b[0;34m(\u001b[0m\u001b[0mself\u001b[0m\u001b[0;34m,\u001b[0m \u001b[0mt\u001b[0m\u001b[0;34m:\u001b[0m \u001b[0mint\u001b[0m\u001b[0;34m)\u001b[0m \u001b[0;34m->\u001b[0m \u001b[0;34m(\u001b[0m\u001b[0mList\u001b[0m\u001b[0;34m[\u001b[0m\u001b[0mfloat\u001b[0m\u001b[0;34m]\u001b[0m\u001b[0;34m,\u001b[0m \u001b[0mList\u001b[0m\u001b[0;34m[\u001b[0m\u001b[0mdict\u001b[0m\u001b[0;34m]\u001b[0m\u001b[0;34m)\u001b[0m\u001b[0;34m:\u001b[0m\u001b[0;34m\u001b[0m\u001b[0;34m\u001b[0m\u001b[0m\n",
      "\u001b[0;32m~/opt/anaconda3/lib/python3.7/site-packages/pyabc/epsilon/epsilon.py\u001b[0m in \u001b[0;36minitialize\u001b[0;34m(self, t, get_weighted_distances, get_all_records, max_nr_populations, acceptor_config)\u001b[0m\n\u001b[1;32m    150\u001b[0m \u001b[0;34m\u001b[0m\u001b[0m\n\u001b[1;32m    151\u001b[0m         \u001b[0;31m# initialize epsilon\u001b[0m\u001b[0;34m\u001b[0m\u001b[0;34m\u001b[0m\u001b[0;34m\u001b[0m\u001b[0m\n\u001b[0;32m--> 152\u001b[0;31m         \u001b[0mself\u001b[0m\u001b[0;34m.\u001b[0m\u001b[0m_update\u001b[0m\u001b[0;34m(\u001b[0m\u001b[0mt\u001b[0m\u001b[0;34m,\u001b[0m \u001b[0mweighted_distances\u001b[0m\u001b[0;34m)\u001b[0m\u001b[0;34m\u001b[0m\u001b[0;34m\u001b[0m\u001b[0m\n\u001b[0m\u001b[1;32m    153\u001b[0m \u001b[0;34m\u001b[0m\u001b[0m\n\u001b[1;32m    154\u001b[0m         \u001b[0;31m# logging\u001b[0m\u001b[0;34m\u001b[0m\u001b[0;34m\u001b[0m\u001b[0;34m\u001b[0m\u001b[0m\n",
      "\u001b[0;32m~/opt/anaconda3/lib/python3.7/site-packages/pyabc/epsilon/epsilon.py\u001b[0m in \u001b[0;36m_update\u001b[0;34m(self, t, weighted_distances)\u001b[0m\n\u001b[1;32m    223\u001b[0m         \u001b[0;31m# compute weighted quantile\u001b[0m\u001b[0;34m\u001b[0m\u001b[0;34m\u001b[0m\u001b[0;34m\u001b[0m\u001b[0m\n\u001b[1;32m    224\u001b[0m         quantile = weighted_quantile(\n\u001b[0;32m--> 225\u001b[0;31m             points=distances, weights=weights, alpha=self.alpha)\n\u001b[0m\u001b[1;32m    226\u001b[0m \u001b[0;34m\u001b[0m\u001b[0m\n\u001b[1;32m    227\u001b[0m         \u001b[0;31m# append to look_up property\u001b[0m\u001b[0;34m\u001b[0m\u001b[0;34m\u001b[0m\u001b[0;34m\u001b[0m\u001b[0m\n",
      "\u001b[0;32m~/opt/anaconda3/lib/python3.7/site-packages/pyabc/weighted_statistics.py\u001b[0m in \u001b[0;36mfunction_with_checking\u001b[0;34m(points, weights, **kwargs)\u001b[0m\n\u001b[1;32m     20\u001b[0m             raise AssertionError(\n\u001b[1;32m     21\u001b[0m                 f\"Weights not normalized: {weights.sum()}.\")\n\u001b[0;32m---> 22\u001b[0;31m         \u001b[0;32mreturn\u001b[0m \u001b[0mfunction\u001b[0m\u001b[0;34m(\u001b[0m\u001b[0mpoints\u001b[0m\u001b[0;34m,\u001b[0m \u001b[0mweights\u001b[0m\u001b[0;34m,\u001b[0m \u001b[0;34m**\u001b[0m\u001b[0mkwargs\u001b[0m\u001b[0;34m)\u001b[0m\u001b[0;34m\u001b[0m\u001b[0;34m\u001b[0m\u001b[0m\n\u001b[0m\u001b[1;32m     23\u001b[0m     \u001b[0;32mreturn\u001b[0m \u001b[0mfunction_with_checking\u001b[0m\u001b[0;34m\u001b[0m\u001b[0;34m\u001b[0m\u001b[0m\n\u001b[1;32m     24\u001b[0m \u001b[0;34m\u001b[0m\u001b[0m\n",
      "\u001b[0;32m~/opt/anaconda3/lib/python3.7/site-packages/pyabc/weighted_statistics.py\u001b[0m in \u001b[0;36mweighted_quantile\u001b[0;34m(points, weights, alpha)\u001b[0m\n\u001b[1;32m     31\u001b[0m \u001b[0;34m\u001b[0m\u001b[0m\n\u001b[1;32m     32\u001b[0m     \u001b[0;31m# sort input and set weights\u001b[0m\u001b[0;34m\u001b[0m\u001b[0;34m\u001b[0m\u001b[0;34m\u001b[0m\u001b[0m\n\u001b[0;32m---> 33\u001b[0;31m     \u001b[0msorted_indices\u001b[0m \u001b[0;34m=\u001b[0m \u001b[0mnp\u001b[0m\u001b[0;34m.\u001b[0m\u001b[0margsort\u001b[0m\u001b[0;34m(\u001b[0m\u001b[0mpoints\u001b[0m\u001b[0;34m)\u001b[0m\u001b[0;34m\u001b[0m\u001b[0;34m\u001b[0m\u001b[0m\n\u001b[0m\u001b[1;32m     34\u001b[0m     \u001b[0mpoints\u001b[0m \u001b[0;34m=\u001b[0m \u001b[0mpoints\u001b[0m\u001b[0;34m[\u001b[0m\u001b[0msorted_indices\u001b[0m\u001b[0;34m]\u001b[0m\u001b[0;34m\u001b[0m\u001b[0;34m\u001b[0m\u001b[0m\n\u001b[1;32m     35\u001b[0m     \u001b[0;32mif\u001b[0m \u001b[0mweights\u001b[0m \u001b[0;32mis\u001b[0m \u001b[0;32mNone\u001b[0m\u001b[0;34m:\u001b[0m\u001b[0;34m\u001b[0m\u001b[0;34m\u001b[0m\u001b[0m\n",
      "\u001b[0;32m<__array_function__ internals>\u001b[0m in \u001b[0;36margsort\u001b[0;34m(*args, **kwargs)\u001b[0m\n",
      "\u001b[0;32m~/opt/anaconda3/lib/python3.7/site-packages/numpy/core/fromnumeric.py\u001b[0m in \u001b[0;36margsort\u001b[0;34m(a, axis, kind, order)\u001b[0m\n\u001b[1;32m   1103\u001b[0m \u001b[0;34m\u001b[0m\u001b[0m\n\u001b[1;32m   1104\u001b[0m     \"\"\"\n\u001b[0;32m-> 1105\u001b[0;31m     \u001b[0;32mreturn\u001b[0m \u001b[0m_wrapfunc\u001b[0m\u001b[0;34m(\u001b[0m\u001b[0ma\u001b[0m\u001b[0;34m,\u001b[0m \u001b[0;34m'argsort'\u001b[0m\u001b[0;34m,\u001b[0m \u001b[0maxis\u001b[0m\u001b[0;34m=\u001b[0m\u001b[0maxis\u001b[0m\u001b[0;34m,\u001b[0m \u001b[0mkind\u001b[0m\u001b[0;34m=\u001b[0m\u001b[0mkind\u001b[0m\u001b[0;34m,\u001b[0m \u001b[0morder\u001b[0m\u001b[0;34m=\u001b[0m\u001b[0morder\u001b[0m\u001b[0;34m)\u001b[0m\u001b[0;34m\u001b[0m\u001b[0;34m\u001b[0m\u001b[0m\n\u001b[0m\u001b[1;32m   1106\u001b[0m \u001b[0;34m\u001b[0m\u001b[0m\n\u001b[1;32m   1107\u001b[0m \u001b[0;34m\u001b[0m\u001b[0m\n",
      "\u001b[0;32m~/opt/anaconda3/lib/python3.7/site-packages/numpy/core/fromnumeric.py\u001b[0m in \u001b[0;36m_wrapfunc\u001b[0;34m(obj, method, *args, **kwds)\u001b[0m\n\u001b[1;32m     59\u001b[0m \u001b[0;34m\u001b[0m\u001b[0m\n\u001b[1;32m     60\u001b[0m     \u001b[0;32mtry\u001b[0m\u001b[0;34m:\u001b[0m\u001b[0;34m\u001b[0m\u001b[0;34m\u001b[0m\u001b[0m\n\u001b[0;32m---> 61\u001b[0;31m         \u001b[0;32mreturn\u001b[0m \u001b[0mbound\u001b[0m\u001b[0;34m(\u001b[0m\u001b[0;34m*\u001b[0m\u001b[0margs\u001b[0m\u001b[0;34m,\u001b[0m \u001b[0;34m**\u001b[0m\u001b[0mkwds\u001b[0m\u001b[0;34m)\u001b[0m\u001b[0;34m\u001b[0m\u001b[0;34m\u001b[0m\u001b[0m\n\u001b[0m\u001b[1;32m     62\u001b[0m     \u001b[0;32mexcept\u001b[0m \u001b[0mTypeError\u001b[0m\u001b[0;34m:\u001b[0m\u001b[0;34m\u001b[0m\u001b[0;34m\u001b[0m\u001b[0m\n\u001b[1;32m     63\u001b[0m         \u001b[0;31m# A TypeError occurs if the object does have such a method in its\u001b[0m\u001b[0;34m\u001b[0m\u001b[0;34m\u001b[0m\u001b[0;34m\u001b[0m\u001b[0m\n",
      "\u001b[0;31mValueError\u001b[0m: The truth value of an array with more than one element is ambiguous. Use a.any() or a.all()"
     ]
    }
   ],
   "source": [
    "# We run the ABC until either criterion is met\n",
    "history = abc.run(max_nr_populations=7)"
   ]
  },
  {
   "cell_type": "markdown",
   "metadata": {},
   "source": [
    "# Visualisations of Variables\n",
    "Simulated trajectories plotted against observed experimental data"
   ]
  },
  {
   "cell_type": "code",
   "execution_count": null,
   "metadata": {},
   "outputs": [],
   "source": []
  },
  {
   "cell_type": "markdown",
   "metadata": {},
   "source": [
    "# Visualise the probability density functions\n"
   ]
  },
  {
   "cell_type": "markdown",
   "metadata": {},
   "source": []
  },
  {
   "cell_type": "code",
   "execution_count": null,
   "metadata": {},
   "outputs": [],
   "source": [
    "from pyabc.visualization import plot_kde_matrix\n",
    "\n",
    "df, w = history.get_distribution(m=0)\n",
    "plot_kde_matrix(df, w);"
   ]
  },
  {
   "cell_type": "markdown",
   "metadata": {},
   "source": [
    "## Visualise how the parameters converge over populations"
   ]
  },
  {
   "cell_type": "code",
   "execution_count": null,
   "metadata": {},
   "outputs": [],
   "source": [
    "fig, ax = plt.subplots()\n",
    "for t in range(history.max_t + 1):\n",
    "    df, w = history.get_distribution(m=0, t=t)\n",
    "    pyabc.visualization.plot_kde_1d(\n",
    "        df,\n",
    "        w,\n",
    "        xmin=0,\n",
    "        xmax=40,\n",
    "        x=\"r\",\n",
    "        xname=r\"$r$\",\n",
    "        ax=ax,\n",
    "        label=f\"PDF t={t}\",\n",
    "    )\n",
    "ax.axvline(20, color=\"k\", linestyle=\"dashed\")\n",
    "ax.legend();"
   ]
  },
  {
   "cell_type": "markdown",
   "metadata": {},
   "source": [
    "# Summary statistics\n",
    "\n",
    "First some summary statistics and save to file"
   ]
  },
  {
   "cell_type": "code",
   "execution_count": null,
   "metadata": {},
   "outputs": [],
   "source": [
    "df.to_csv(\"../Data/abc_results.csv\", encoding='utf-8', index=False)\n",
    "df.describe()"
   ]
  },
  {
   "cell_type": "markdown",
   "metadata": {},
   "source": [
    "# Plot some trajectories\n"
   ]
  },
  {
   "cell_type": "code",
   "execution_count": null,
   "metadata": {},
   "outputs": [],
   "source": [
    "import pandas as pd\n",
    "import operator\n",
    "\n",
    "\n",
    "#plot some curves from the ODE model\n",
    "precision=5000\n",
    "tmax = 6\n",
    "time_space = np.linspace(0,tmax,precision+1)#precision+1?\n",
    "\n",
    "P=odeint(ode_model,initial_contamination,time_space,args=(df[\"r\"].mean(),df[\"C\"].mean(),df[\"d\"].mean(),df[\"g\"].mean()))\n",
    "Pmin=odeint(ode_model,initial_contamination,time_space,args=(df[\"r\"].quantile(0.05),df[\"C\"].quantile(0.05),df[\"d\"].quantile(0.05),df[\"g\"].quantile(0.05)))\n",
    "Pmax=odeint(ode_model,initial_contamination,time_space,args=(df[\"r\"].quantile(0.95),df[\"C\"].quantile(0.95),df[\"d\"].quantile(0.95),df[\"g\"].quantile(0.95)))\n",
    "\n",
    "#P=ode_model({\"af\":df[\"af\"].mean(),\"cs\":df[\"cs\"].mean(),\"lam\":df[\"lam\"].mean()})\n",
    "#Pmin=ode_model({\"af\":df[\"af\"].quantile(0.05),\"cs\":df[\"cs\"].quantile(0.05),\"lam\":df[\"lam\"].quantile(0.05)})\n",
    "#Pmax=ode_model({\"af\":df[\"af\"].quantile(0.95),\"cs\":df[\"cs\"].quantile(0.95),\"lam\":df[\"lam\"].quantile(0.95)})\n",
    "\n",
    "# create a vector of values between 0 and 6\n",
    "x = np.array([0,2,4,6])\n",
    "\n",
    "#Define new sd just for plotting to avoid SD value at 0\n",
    "s=np.array([385,93.70165,86.13942,162.11107])\n",
    "measurement_data = np.array([1200,134.0,202.0,294.0])\n",
    "\n",
    "#Plot errobars of experimental data\n",
    "x = np.array([0,2,4,6])\n",
    "plt.errorbar(x,measurement_data,yerr=s,fmt='o', color='black',label='Experimental data')\n",
    "\n",
    "#Plot the model prediction\n",
    "plt.plot(time_space,P,label=\"Model prediction\",color='blue')\n",
    "\n",
    "#Plot confidence intervals around the model prediction\n",
    "plt.fill_between(x,Pmin,Pmax,alpha=0.2,color='blue')\n",
    "\n",
    "\n",
    "\n",
    "#plt.fill_between(x, np.array(map(operator.sub, P[\"Contamination\"], Pmin[\"Contamination\"])), np.array(map(operator.add, P[\"Contamination\"], Pmax[\"Contamination\"])), color='b', alpha=.1)\n",
    "plt.xlim(-1,8)\n",
    "plt.ylabel(\"CUF recovered from finger \\n after t hours\")\n",
    "plt.xlabel(\"Number of contacts\")\n",
    "plt.legend(loc=\"upper left\")\n",
    "\n",
    "\n",
    "#save the plot\n",
    "#plt.savefig(\"../Images/abc_prediction.png\", dpi=600)\n",
    "\n",
    "plt.show()"
   ]
  },
  {
   "cell_type": "code",
   "execution_count": null,
   "metadata": {},
   "outputs": [],
   "source": [
    "#print the shape of time_space\n",
    "print(odeint(ode_model,initial_contamination,time_space,args=(df[\"r\"].mean(),df[\"C\"].mean(),df[\"d\"].mean(),df[\"g\"].mean())))"
   ]
  }
 ],
 "metadata": {
  "interpreter": {
   "hash": "95fa8d10f2e08061f6c76d763905f78bd3cfa45000683d26ef07ab31975d3cfe"
  },
  "kernelspec": {
   "display_name": "Python 3.7.6 ('base')",
   "language": "python",
   "name": "python3"
  },
  "language_info": {
   "codemirror_mode": {
    "name": "ipython",
    "version": 3
   },
   "file_extension": ".py",
   "mimetype": "text/x-python",
   "name": "python",
   "nbconvert_exporter": "python",
   "pygments_lexer": "ipython3",
   "version": "3.7.6"
  },
  "orig_nbformat": 4
 },
 "nbformat": 4,
 "nbformat_minor": 2
}
