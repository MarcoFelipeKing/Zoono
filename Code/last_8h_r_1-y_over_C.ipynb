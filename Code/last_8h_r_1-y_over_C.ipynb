{
  "cells": [
    {
      "cell_type": "code",
      "execution_count": 1,
      "metadata": {
        "id": "Lq0fLqeB8hRr"
      },
      "outputs": [],
      "source": [
        "#!pip install pyabc\n",
        "import pyabc as pyabc\n",
        "from pyabc import (ABCSMC,\n",
        "                   RV, Distribution,\n",
        "                   MedianEpsilon,\n",
        "                   LocalTransition)\n",
        "from pyabc.visualization import plot_kde_2d, plot_data_callback\n",
        "import matplotlib.pyplot as plt\n",
        "import os\n",
        "import tempfile\n",
        "import numpy as np\n",
        "#import scipy as sp\n",
        "from scipy.integrate import odeint\n",
        "import math\n",
        "import seaborn as sns\n",
        "import pandas as pd\n",
        "#pyabc.settings.set_figure_params('pyabc')  # for beautified plots\n",
        "db_path = (\"sqlite:///\" +\n",
        "           os.path.join(tempfile.gettempdir(), \"test4.db\"))\n",
        "\n"
      ]
    },
    {
      "cell_type": "markdown",
      "metadata": {
        "id": "_0TZ_cwZcu1t"
      },
      "source": [
        "Fit the treated group data from 16:24h to estimate r and C"
      ]
    },
    {
      "cell_type": "code",
      "execution_count": 2,
      "metadata": {
        "id": "5Cxug6P2ctyv"
      },
      "outputs": [],
      "source": [
        "#Here we defien the ODE model (1)\n",
        "def ode_model(contamination,t,r,C):\n",
        "    Contamination = contamination;\n",
        "    return(r*(1-Contamination/C))\n",
        "\n",
        "#Here we create the input parameters and extract only specific time-points\n",
        "def deterministic_run(parameters):#precision,initial_contamination,r,C,d,g):\n",
        "    precision=5000\n",
        "    tmax = 8\n",
        "    time_space = np.linspace(0,tmax,precision+1)#precision+1?\n",
        "    sim=odeint(ode_model,initial_contamination,time_space,args=(parameters[\"r\"],parameters[\"C\"]))\n",
        "    #num_at_0=sim[int(precision*0.1/50.0)]\n",
        "    #num_at_1=sim[int(precision*1/tmax)]\n",
        "    num_at_2=sim[int(precision*2/tmax)]\n",
        "    num_at_4=sim[int(precision*4/tmax)]\n",
        "    num_at_6=sim[int(precision*6/tmax)]\n",
        "    num_at_8=sim[int(precision*8/tmax)]\n",
        "    #num_at_16=sim[int(precision*16/tmax)]\n",
        "    #num_at_18=sim[int(precision*18/tmax)]\n",
        "    #num_at_20=sim[int(precision*20/tmax)]\n",
        "    #num_at_22=sim[int(precision*22/tmax)]\n",
        "    #num_at_24=sim[int(precision*24/tmax)]\n",
        "    #return{\"Contamination\":[num_at_2,num_at_4,num_at_6,num_at_16,num_at_18,num_at_20,num_at_22,num_at_24]}\n",
        "    return{\"Contamination\":[num_at_2,num_at_4,num_at_6,num_at_8]}"
      ]
    },
    {
      "cell_type": "markdown",
      "metadata": {
        "id": "gvQHaWStdMW_"
      },
      "source": [
        "# Define the parameter priors\n",
        "\n",
        "We choose some examples to see how well it works."
      ]
    },
    {
      "cell_type": "code",
      "execution_count": 3,
      "metadata": {
        "colab": {
          "base_uri": "https://localhost:8080/"
        },
        "id": "HbLRjSi6dJuP",
        "outputId": "287611c5-2014-4ed3-fc4d-f41afdf8ebad"
      },
      "outputs": [
        {
          "data": {
            "text/plain": [
              "['C', 'r']"
            ]
          },
          "execution_count": 3,
          "metadata": {},
          "output_type": "execute_result"
        }
      ],
      "source": [
        "parameter_prior = Distribution(r=RV(\"uniform\", 0.0, 1.0),\n",
        "                               C=RV(\"uniform\", 5000.00, 10000.0))\n",
        "\n",
        "parameter_prior.get_parameter_names()"
      ]
    },
    {
      "cell_type": "markdown",
      "metadata": {
        "id": "GrbRFB0ZdJen"
      },
      "source": [
        "# Define the distance fuction\n",
        "This currently is a absolute distances between the two points divided by the standard deviation at each point. Could use Manhattan distance."
      ]
    },
    {
      "cell_type": "code",
      "execution_count": 4,
      "metadata": {
        "id": "O2Y1twmJdQBn"
      },
      "outputs": [],
      "source": [
        "def distance(simulation, data):\n",
        "    return np.absolute((data[\"Contamination\"] - simulation[\"Contamination\"])).sum()"
      ]
    },
    {
      "cell_type": "markdown",
      "metadata": {
        "id": "7HcRuw3xdWfe"
      },
      "source": [
        "# Set up the ABC SMC \n"
      ]
    },
    {
      "cell_type": "code",
      "execution_count": 5,
      "metadata": {
        "colab": {
          "base_uri": "https://localhost:8080/"
        },
        "id": "sZoXj46xdW1g",
        "outputId": "66377651-9188-497b-dca3-c3ab2275474f"
      },
      "outputs": [
        {
          "name": "stderr",
          "output_type": "stream",
          "text": [
            "INFO:Sampler:Parallelizing the sampling on 8 cores.\n"
          ]
        }
      ],
      "source": [
        "# We plug all the ABC options together and use an adaptive population size\n",
        "from pyabc.populationstrategy import AdaptivePopulationSize\n",
        "\n",
        "\n",
        "abc = ABCSMC(\n",
        "    models=deterministic_run,\n",
        "    parameter_priors=parameter_prior,\n",
        "    distance_function=distance,\n",
        "    population_size=AdaptivePopulationSize(1000, 0.15),\n",
        "    # population_size=1000,\n",
        "    transitions=LocalTransition(k_fraction=0.3),\n",
        "    # eps=MedianEpsilon(500, median_multiplier=0.7),\n",
        ")"
      ]
    },
    {
      "cell_type": "markdown",
      "metadata": {
        "id": "aWlUI4fOdb0X"
      },
      "source": [
        "# Setting the observed data"
      ]
    },
    {
      "cell_type": "code",
      "execution_count": 6,
      "metadata": {
        "colab": {
          "base_uri": "https://localhost:8080/"
        },
        "id": "3xtn_zfLdcUi",
        "outputId": "edc7ceeb-ec96-40f0-d21d-12e5eb354c0c"
      },
      "outputs": [
        {
          "name": "stderr",
          "output_type": "stream",
          "text": [
            "INFO:History:Start <ABCSMC(id=21, start_time=2022-04-13 11:49:51.023978, end_time=None)>\n"
          ]
        }
      ],
      "source": [
        "# y_observed is the important piece here: our actual observation.\n",
        "initial_contamination=400\n",
        "\n",
        "#Assign y_observed to the ABCSMC object\n",
        "measurement_data =np.array([644,1232,2033,2868])#  np.array([134.0,202.0,294.0]) #y_observed #\n",
        "\n",
        "s=np.array([123,396,629,1147])#np.array([93.70165,86.13942,162.11107])#,116.61904,123.61230,396.88789,628.87201,1147.13556]) y_observed_sd #\n",
        "precision=5000\n",
        "measurement_times = np.array([18,20,22,24]) #np.array([2,4,6]) #np.array([2,4,6,16,18,20,22,24]) #\n",
        "\n",
        "\n",
        "#This sets up the database and includes the measurement data and standard deviation\n",
        "history = abc.new(db_path, {\"Contamination\": measurement_data,\"sd\":s})"
      ]
    },
    {
      "cell_type": "markdown",
      "metadata": {
        "id": "gd8DyJhseIbS"
      },
      "source": [
        "# Running the ABC"
      ]
    },
    {
      "cell_type": "code",
      "execution_count": 7,
      "metadata": {
        "colab": {
          "base_uri": "https://localhost:8080/"
        },
        "id": "zt7PqF1ieI0U",
        "outputId": "bc72bfdd-2b86-4bfc-8867-c8e2beaaf307"
      },
      "outputs": [
        {
          "name": "stderr",
          "output_type": "stream",
          "text": [
            "INFO:ABC:Calibration sample before t=0.\n",
            "INFO:Epsilon:initial epsilon is 20670.64609457046\n",
            "INFO:ABC:t: 0, eps: 20670.64609457046.\n",
            "INFO:ABC:Acceptance rate: 1000 / 1964 = 5.0916e-01, ESS=1.0000e+03.\n",
            "INFO:Adaptation:Change nr particles 1000 -> 258\n",
            "INFO:ABC:t: 1, eps: 20649.859092131523.\n",
            "INFO:ABC:Acceptance rate: 258 / 643 = 4.0124e-01, ESS=2.4042e+02.\n",
            "INFO:Adaptation:Change nr particles 258 -> 284\n",
            "INFO:ABC:t: 2, eps: 20641.519433089878.\n",
            "INFO:ABC:Acceptance rate: 284 / 621 = 4.5733e-01, ESS=2.6401e+02.\n",
            "INFO:Adaptation:Change nr particles 284 -> 299\n",
            "INFO:ABC:t: 3, eps: 20636.497424726404.\n",
            "INFO:ABC:Acceptance rate: 299 / 645 = 4.6357e-01, ESS=2.6993e+02.\n",
            "INFO:Adaptation:Change nr particles 299 -> 271\n",
            "INFO:ABC:t: 4, eps: 20634.091573883725.\n",
            "INFO:ABC:Acceptance rate: 271 / 638 = 4.2476e-01, ESS=2.4435e+02.\n",
            "INFO:Adaptation:Change nr particles 271 -> 273\n",
            "INFO:ABC:t: 5, eps: 20632.57873306057.\n",
            "INFO:ABC:Acceptance rate: 273 / 643 = 4.2457e-01, ESS=2.4854e+02.\n",
            "INFO:Adaptation:Change nr particles 273 -> 260\n",
            "INFO:ABC:t: 6, eps: 20631.790518178714.\n",
            "INFO:ABC:Acceptance rate: 260 / 559 = 4.6512e-01, ESS=2.3730e+02.\n",
            "INFO:Adaptation:Change nr particles 260 -> 272\n",
            "INFO:ABC:t: 7, eps: 20631.200326067916.\n",
            "INFO:ABC:Acceptance rate: 272 / 612 = 4.4444e-01, ESS=2.4687e+02.\n",
            "INFO:Adaptation:Change nr particles 272 -> 270\n",
            "INFO:ABC:t: 8, eps: 20630.887727865746.\n",
            "INFO:ABC:Acceptance rate: 270 / 601 = 4.4925e-01, ESS=2.5588e+02.\n",
            "INFO:Adaptation:Change nr particles 270 -> 279\n",
            "INFO:ABC:t: 9, eps: 20630.647787920207.\n",
            "INFO:ABC:Acceptance rate: 279 / 620 = 4.5000e-01, ESS=2.5993e+02.\n",
            "INFO:Adaptation:Change nr particles 279 -> 273\n",
            "INFO:ABC:t: 10, eps: 20630.499997161332.\n",
            "INFO:ABC:Acceptance rate: 273 / 633 = 4.3128e-01, ESS=2.4679e+02.\n",
            "INFO:Adaptation:Change nr particles 273 -> 272\n",
            "INFO:ABC:t: 11, eps: 20630.381889719658.\n",
            "INFO:ABC:Acceptance rate: 272 / 648 = 4.1975e-01, ESS=2.5547e+02.\n",
            "INFO:Adaptation:Change nr particles 272 -> 261\n",
            "INFO:ABC:t: 12, eps: 20630.308735193536.\n",
            "INFO:ABC:Acceptance rate: 261 / 663 = 3.9367e-01, ESS=2.3983e+02.\n",
            "INFO:Adaptation:Change nr particles 261 -> 244\n",
            "INFO:ABC:t: 13, eps: 20630.26200781699.\n",
            "INFO:ABC:Acceptance rate: 244 / 533 = 4.5779e-01, ESS=2.1601e+02.\n",
            "INFO:Adaptation:Change nr particles 244 -> 267\n",
            "INFO:ABC:t: 14, eps: 20630.232454984573.\n",
            "INFO:ABC:Acceptance rate: 267 / 595 = 4.4874e-01, ESS=2.1891e+02.\n",
            "INFO:Adaptation:Change nr particles 267 -> 276\n",
            "INFO:History:Done <ABCSMC(id=21, start_time=2022-04-13 11:49:51.023978, end_time=2022-04-13 11:58:19.289919)>\n"
          ]
        }
      ],
      "source": [
        "# We run the ABC until either criterion is met\n",
        "history = abc.run(minimum_epsilon=0.1, max_nr_populations=15)"
      ]
    },
    {
      "cell_type": "markdown",
      "metadata": {
        "id": "6CAWwQsBefD0"
      },
      "source": [
        "# Visualise the probability density functions"
      ]
    },
    {
      "cell_type": "code",
      "execution_count": 8,
      "metadata": {
        "colab": {
          "base_uri": "https://localhost:8080/",
          "height": 369
        },
        "id": "PkIyr3qPef7h",
        "outputId": "72288f01-c62e-4c55-efac-a1e30e55057e"
      },
      "outputs": [
        {
          "data": {
            "image/png": "[encoded data removed]",
            "text/plain": [
              "<Figure size 360x360 with 5 Axes>"
            ]
          },
          "metadata": {
            "needs_background": "light"
          },
          "output_type": "display_data"
        }
      ],
      "source": [
        "from pyabc.visualization import plot_kde_matrix\n",
        "\n",
        "df, w = history.get_distribution(m=0)\n",
        "plot_kde_matrix(df, w);"
      ]
    },
    {
      "cell_type": "markdown",
      "metadata": {
        "id": "d0x7AfaFgAu3"
      },
      "source": [
        "## Visualise how the parameters converge over populations"
      ]
    },
    {
      "cell_type": "code",
      "execution_count": 12,
      "metadata": {
        "colab": {
          "base_uri": "https://localhost:8080/",
          "height": 279
        },
        "id": "VzXchpiNgBWq",
        "outputId": "bb0ee0c1-07c5-4939-b7b1-ee5d6010ee1d"
      },
      "outputs": [
        {
          "data": {
            "image/png": "[encoded data removed]",
            "text/plain": [
              "<Figure size 432x288 with 1 Axes>"
            ]
          },
          "metadata": {
            "needs_background": "light"
          },
          "output_type": "display_data"
        }
      ],
      "source": [
        "fig, ax = plt.subplots()\n",
        "for t in range(history.max_t + 1):\n",
        "    df, w = history.get_distribution(m=0, t=t)\n",
        "    pyabc.visualization.plot_kde_1d(\n",
        "        df,\n",
        "        w,\n",
        "        xmin=0,\n",
        "        xmax=2,\n",
        "        x=\"r\",\n",
        "        # xname=r\"$\\lambda$\",\n",
        "        ax=ax,\n",
        "        label=f\"PDF t={t}\",\n",
        "    )\n",
        "#Add a vertical line at lambda=0.49 +- 0.32 to 0.72 \n",
        "#This is the experimental value predicted in King et al. 2020 with Kalanne\n",
        "ax.axvline(15, color=\"k\", linestyle=\"dashed\")\n",
        "ax.legend();"
      ]
    },
    {
      "cell_type": "markdown",
      "metadata": {
        "id": "BjMF_4WbgMoA"
      },
      "source": [
        "# Summary statistics\n",
        "\n",
        "First some summary statistics and save to file"
      ]
    },
    {
      "cell_type": "code",
      "execution_count": 13,
      "metadata": {
        "colab": {
          "base_uri": "https://localhost:8080/",
          "height": 297
        },
        "id": "EbeStHZzgM9F",
        "outputId": "1c8496b4-ef7d-4247-cb62-c7c12148c19e"
      },
      "outputs": [
        {
          "data": {
            "text/html": [
              "<div>\n",
              "<style scoped>\n",
              "    .dataframe tbody tr th:only-of-type {\n",
              "        vertical-align: middle;\n",
              "    }\n",
              "\n",
              "    .dataframe tbody tr th {\n",
              "        vertical-align: top;\n",
              "    }\n",
              "\n",
              "    .dataframe thead th {\n",
              "        text-align: right;\n",
              "    }\n",
              "</style>\n",
              "<table border=\"1\" class=\"dataframe\">\n",
              "  <thead>\n",
              "    <tr style=\"text-align: right;\">\n",
              "      <th>name</th>\n",
              "      <th>C</th>\n",
              "      <th>r</th>\n",
              "    </tr>\n",
              "  </thead>\n",
              "  <tbody>\n",
              "    <tr>\n",
              "      <th>count</th>\n",
              "      <td>267.000000</td>\n",
              "      <td>267.000000</td>\n",
              "    </tr>\n",
              "    <tr>\n",
              "      <th>mean</th>\n",
              "      <td>14792.220850</td>\n",
              "      <td>0.999613</td>\n",
              "    </tr>\n",
              "    <tr>\n",
              "      <th>std</th>\n",
              "      <td>118.110942</td>\n",
              "      <td>0.000233</td>\n",
              "    </tr>\n",
              "    <tr>\n",
              "      <th>min</th>\n",
              "      <td>14447.431692</td>\n",
              "      <td>0.998949</td>\n",
              "    </tr>\n",
              "    <tr>\n",
              "      <th>25%</th>\n",
              "      <td>14709.575839</td>\n",
              "      <td>0.999457</td>\n",
              "    </tr>\n",
              "    <tr>\n",
              "      <th>50%</th>\n",
              "      <td>14787.936801</td>\n",
              "      <td>0.999644</td>\n",
              "    </tr>\n",
              "    <tr>\n",
              "      <th>75%</th>\n",
              "      <td>14884.309346</td>\n",
              "      <td>0.999783</td>\n",
              "    </tr>\n",
              "    <tr>\n",
              "      <th>max</th>\n",
              "      <td>14999.908862</td>\n",
              "      <td>0.999994</td>\n",
              "    </tr>\n",
              "  </tbody>\n",
              "</table>\n",
              "</div>"
            ],
            "text/plain": [
              "name              C           r\n",
              "count    267.000000  267.000000\n",
              "mean   14792.220850    0.999613\n",
              "std      118.110942    0.000233\n",
              "min    14447.431692    0.998949\n",
              "25%    14709.575839    0.999457\n",
              "50%    14787.936801    0.999644\n",
              "75%    14884.309346    0.999783\n",
              "max    14999.908862    0.999994"
            ]
          },
          "execution_count": 13,
          "metadata": {},
          "output_type": "execute_result"
        }
      ],
      "source": [
        "df.to_csv(\"abc_results_second_half.csv\", encoding='utf-8', index=False)\n",
        "df.describe()"
      ]
    },
    {
      "cell_type": "markdown",
      "metadata": {
        "id": "xOIOfvcegbN4"
      },
      "source": []
    },
    {
      "cell_type": "code",
      "execution_count": 14,
      "metadata": {
        "colab": {
          "base_uri": "https://localhost:8080/",
          "height": 279
        },
        "id": "stBH0BU2gfy8",
        "outputId": "6ca74e26-77fa-4515-cab2-7e05610befce"
      },
      "outputs": [
        {
          "data": {
            "image/png": "[encoded data removed]",
            "text/plain": [
              "<Figure size 432x288 with 1 Axes>"
            ]
          },
          "metadata": {
            "needs_background": "light"
          },
          "output_type": "display_data"
        }
      ],
      "source": [
        "import pandas as pd\n",
        "import operator\n",
        "\n",
        "\n",
        "#plot some curves from the ODE model\n",
        "precision=5000\n",
        "tmax = 8\n",
        "time_space = np.linspace(0,tmax,precision+1)#precision+1?\n",
        "\n",
        "P=odeint(ode_model,initial_contamination,time_space,args=(df[\"r\"].mean(),df[\"C\"].mean()))\n",
        "Pmin=odeint(ode_model,initial_contamination,time_space,args=(df[\"r\"].quantile(0.05),df[\"C\"].quantile(0.05)))\n",
        "Pmax=odeint(ode_model,initial_contamination,time_space,args=(df[\"r\"].quantile(0.95),df[\"C\"].quantile(0.95)))\n",
        "\n",
        "# create a vector of values between 0 and 6\n",
        "x = np.array([0,2,4,6,8])\n",
        "\n",
        "#Define new sd just for plotting to avoid SD value at 0\n",
        "#s=np.array([385,93.70165,86.13942,162.11107])\n",
        "#measurement_data = np.array([1200,134.0,202.0,294.0])\n",
        "measurement_data =np.array([400,644,1232,2033,2868])\n",
        "s=np.array([116,123,396,629,1147])\n",
        "measurement_times = np.array([0,2,4,6,8]) \n",
        "\n",
        "\n",
        "#Plot errobars of experimental data\n",
        "\n",
        "plt.errorbar(x,measurement_data,yerr=s,fmt='o', color='black',label='Experimental data')\n",
        "\n",
        "#Plot the model prediction\n",
        "plt.plot(time_space,P,label=\"Model prediction\",color='blue')\n",
        "\n",
        "#Plot confidence intervals around the model prediction\n",
        "\n",
        "plt.fill_between(time_space,np.concatenate(Pmin),np.concatenate(Pmax),alpha=0.2,color='blue')\n",
        "#plt.plot(time_space,Pmin,label=\"Model prediction\",color='red')\n",
        "#plt.plot(time_space,Pmax,label=\"Model prediction\",color='red')\n",
        "\n",
        "#plt.fill_between(x, np.array(map(operator.sub, P[\"Contamination\"], Pmin[\"Contamination\"])), np.array(map(operator.add, P[\"Contamination\"], Pmax[\"Contamination\"])), color='b', alpha=.1)\n",
        "plt.xlim(-1,10)\n",
        "plt.ylabel(\"CFU recovered from finger \\n after t hours\")\n",
        "plt.yscale(\"log\")\n",
        "plt.xlabel(\"Hours after hand hygiene\")\n",
        "plt.legend(loc=\"upper left\")\n",
        "#make y axis logarithmic\n",
        "\n",
        "\n",
        "#save the plot\n",
        "#plt.savefig(\"../Images/abc_prediction.png\", dpi=600)\n",
        "\n",
        "plt.show()"
      ]
    }
  ],
  "metadata": {
    "colab": {
      "name": "Untitled2.ipynb",
      "provenance": []
    },
    "kernelspec": {
      "display_name": "Python 3",
      "name": "python3"
    },
    "language_info": {
      "codemirror_mode": {
        "name": "ipython",
        "version": 3
      },
      "file_extension": ".py",
      "mimetype": "text/x-python",
      "name": "python",
      "nbconvert_exporter": "python",
      "pygments_lexer": "ipython3",
      "version": "3.7.6"
    }
  },
  "nbformat": 4,
  "nbformat_minor": 0
}
