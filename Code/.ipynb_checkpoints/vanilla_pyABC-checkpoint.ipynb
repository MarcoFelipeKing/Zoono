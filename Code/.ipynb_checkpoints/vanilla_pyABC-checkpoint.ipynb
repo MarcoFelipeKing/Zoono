{
 "cells": [
  {
   "cell_type": "markdown",
   "metadata": {},
   "source": [
    "# Vanilla ABC-SMC \n",
    "Set up requrirements and experimental data"
   ]
  },
  {
   "cell_type": "code",
   "execution_count": 1,
   "metadata": {},
   "outputs": [],
   "source": [
    "#!/usr/bin/env python3\n",
    "# -*- coding: utf-8 -*-\n",
    "\"\"\"\n",
    "Created on Sun Jun 22 18:22:52 2020\n",
    "\n",
    "@author: marcofking\n",
    "\"\"\"\n",
    "\n",
    "\n",
    "import pyabc as pyabc\n",
    "from pyabc import (ABCSMC,\n",
    "                   RV, Distribution,\n",
    "                   MedianEpsilon,\n",
    "                   LocalTransition)\n",
    "from pyabc.visualization import plot_kde_2d, plot_data_callback\n",
    "import matplotlib.pyplot as plt\n",
    "import os\n",
    "import tempfile\n",
    "import numpy as np\n",
    "#import scipy as sp\n",
    "from scipy.integrate import odeint\n",
    "import math\n",
    "import seaborn as sns\n",
    "#pyabc.settings.set_figure_params('pyabc')  # for beautified plots\n",
    "db_path = (\"sqlite:///\" +\n",
    "           os.path.join(tempfile.gettempdir(), \"test4.db\"))\n",
    "\n"
   ]
  },
  {
   "cell_type": "markdown",
   "metadata": {},
   "source": [
    "# Define the ODE to solve \n",
    "\n",
    "We consider only recontamination from surface contacts, not from additional proliferation of the bacterias on the hands.\n",
    "$$ y'=(1-y/C)r-d\\exp(-g t)y$$\n",
    "\n",
    "Currently we only consider the first 4 experimental datapoints as there is a gap which is hard to explain using this model-"
   ]
  },
  {
   "cell_type": "code",
   "execution_count": 2,
   "metadata": {},
   "outputs": [],
   "source": [
    "\n",
    "def Distance(simulation, data):\n",
    "    return np.absolute((data[\"Contamination\"] - simulation[\"Contamination\"])/data[\"sd\"]).sum()\n",
    "\n",
    "\n",
    "def ode_model(contamination,t,r,C,d,g):\n",
    "    Contamination = contamination;\n",
    "    return(r*(1-Contamination/C)-d*math.exp(-g*t)*Contamination)\n",
    "\n",
    "\n",
    "def deterministic_run(parameters):#precision,initial_contamination,r,C,d,g):\n",
    "    precision=5000\n",
    "    tmax = 6\n",
    "    time_space = np.linspace(0,tmax,precision+1)#precision+1?\n",
    "    sim=odeint(ode_model,initial_contamination,time_space,args=(parameters[\"r\"],parameters[\"C\"],parameters[\"d\"],parameters[\"g\"]))\n",
    "    #num_at_0=sim[int(precision*0.1/50.0)]\n",
    "    #num_at_1=sim[int(precision*1/tmax)]\n",
    "    num_at_2=sim[int(precision*2/tmax)]\n",
    "    num_at_4=sim[int(precision*4/tmax)]\n",
    "    num_at_6=sim[int(precision*6/tmax)]\n",
    "   # num_at_16=sim[int(precision*16/tmax)]\n",
    "   # num_at_18=sim[int(precision*18/tmax)]\n",
    "   # num_at_20=sim[int(precision*20/tmax)]\n",
    "   # num_at_22=sim[int(precision*22/tmax)]\n",
    "   # num_at_24=sim[int(precision*24/tmax)]\n",
    "    #return{\"Contamination\":[num_at_2,num_at_4,num_at_6,num_at_16,num_at_18,num_at_20,num_at_22,num_at_24]+ sigma*np.random.randn(8)}\n",
    "    return{\"Contamination\":[num_at_2,num_at_4,num_at_6]}"
   ]
  },
  {
   "cell_type": "markdown",
   "metadata": {},
   "source": [
    "# Define the parameter priors\n",
    "\n",
    "We choose some examples to see how well it works."
   ]
  },
  {
   "cell_type": "code",
   "execution_count": 3,
   "metadata": {},
   "outputs": [
    {
     "data": {
      "text/plain": [
       "['C', 'd', 'g', 'r']"
      ]
     },
     "execution_count": 3,
     "metadata": {},
     "output_type": "execute_result"
    }
   ],
   "source": [
    "parameter_prior = Distribution(r=RV(\"uniform\", 0.0, 200.0),\n",
    "                               C=RV(\"uniform\", 1000.0, 6000.0),\n",
    "                               d=RV(\"uniform\", 10.0, 1000.0),\n",
    "                               g=RV(\"uniform\", 2.0, 200.0))\n",
    "\n",
    "parameter_prior.get_parameter_names()"
   ]
  },
  {
   "cell_type": "markdown",
   "metadata": {},
   "source": [
    "# Define the distance fuction\n",
    "This currently is a vanilla absolute distances between the two points."
   ]
  },
  {
   "cell_type": "code",
   "execution_count": 4,
   "metadata": {},
   "outputs": [],
   "source": [
    "def distance(simulation, data):\n",
    "    return np.absolute(data[\"Contamination\"] - simulation[\"Contamination\"]).sum()"
   ]
  },
  {
   "cell_type": "markdown",
   "metadata": {},
   "source": [
    "# Set up the ABC SMC \n"
   ]
  },
  {
   "cell_type": "code",
   "execution_count": 5,
   "metadata": {},
   "outputs": [],
   "source": [
    "#sigma=0.02\n",
    "#acceptor = pyabc.StochasticAcceptor()\n",
    "#kernel = pyabc.IndependentNormalKernel(var=sigma**2)\n",
    "#eps = pyabc.Temperature()\n",
    "\n",
    "#abc = pyabc.ABCSMC(deterministic_run, parameter_prior, kernel, eps=eps, acceptor=acceptor,population_size=1000)\n",
    "#abc.new(db_path,{\"Contamination\": measurement_data}) #This distance model assumes the name of the predicited and confirmed are the same\n",
    "#history_acceptor = abc.run(max_nr_populations=5,minimum_epsilon=50000)"
   ]
  },
  {
   "cell_type": "code",
   "execution_count": 9,
   "metadata": {},
   "outputs": [
    {
     "name": "stderr",
     "output_type": "stream",
     "text": [
      "ABC.Sampler INFO: Parallelize sampling on 8 processes.\n"
     ]
    }
   ],
   "source": [
    "# We plug all the ABC options together\n",
    "abc = ABCSMC(\n",
    "    models=deterministic_run,\n",
    "    parameter_priors=parameter_prior,\n",
    "    distance_function=distance,\n",
    "    population_size=500,\n",
    "    transitions=LocalTransition(k_fraction=0.3),\n",
    "    eps=MedianEpsilon(50000, median_multiplier=0.7),\n",
    ")"
   ]
  },
  {
   "cell_type": "markdown",
   "metadata": {},
   "source": [
    "# Setting the observed data"
   ]
  },
  {
   "cell_type": "markdown",
   "metadata": {},
   "source": []
  },
  {
   "cell_type": "code",
   "execution_count": 10,
   "metadata": {},
   "outputs": [
    {
     "name": "stderr",
     "output_type": "stream",
     "text": [
      "ABC.History INFO: Start <ABCSMC id=2, start_time=2022-03-15 20:39:10>\n"
     ]
    }
   ],
   "source": [
    "# y_observed is the important piece here: our actual observation.\n",
    "initial_contamination=1200.0\n",
    "measurement_data = np.array([134.0,202.0,294.0]) #,400,644,1232,2044,2868\n",
    "s=np.array([93.70165,86.13942,162.11107,116.61904,123.61230,396.88789,628.87201,1147.13556])\n",
    "precision=5000\n",
    "measurement_times = np.array([2,4,6])#np.arange(len(measurement_data))  \n",
    "# and we define where to store the results\n",
    "\n",
    "history = abc.new(db_path, {\"Contamination\": measurement_data})"
   ]
  },
  {
   "cell_type": "markdown",
   "metadata": {},
   "source": [
    "# Running the ABC"
   ]
  },
  {
   "cell_type": "code",
   "execution_count": null,
   "metadata": {},
   "outputs": [
    {
     "name": "stderr",
     "output_type": "stream",
     "text": [
      "ABC INFO: t: 0, eps: 5.00000000e+04.\n"
     ]
    }
   ],
   "source": [
    "# We run the ABC until either criterion is met\n",
    "history = abc.run(minimum_epsilon=1000, max_nr_populations=5)"
   ]
  },
  {
   "cell_type": "markdown",
   "metadata": {},
   "source": [
    "# Visualisations of Variables\n",
    "Simulated trajectories plotted against observed experimental data"
   ]
  },
  {
   "cell_type": "code",
   "execution_count": null,
   "metadata": {},
   "outputs": [],
   "source": [
    "_, ax = plt.subplots()\n",
    "\n",
    "\n",
    "def plot_data(sum_stat, weight, ax, **kwargs):\n",
    "    \"\"\"Plot a single trajectory\"\"\"\n",
    "    ax.plot(measurement_times, sum_stat['Contaminatination'], color='grey', alpha=0.1)\n",
    "\n",
    "\n",
    "def plot_mean(sum_stats, weights, ax, **kwargs):\n",
    "    \"\"\"Plot mean over all samples\"\"\"\n",
    "    weights = np.array(weights)\n",
    "    weights /= weights.sum()\n",
    "    data = np.array([sum_stat['Contaminatination'] for sum_stat in sum_stats])\n",
    "    mean = (data * weights.reshape((-1, 1))).sum(axis=0)\n",
    "    ax.plot(measurement_times, mean, color='C2', label='Sample mean')\n",
    "\n",
    "\n",
    "ax = plot_data_callback(h, plot_data, plot_mean, ax=ax)\n",
    "\n",
    "plt.plot(true_trajectory, color=\"C0\", label='Simulation')\n",
    "plt.scatter(measurement_times, measurement_data, color=\"C1\", label='Data')\n",
    "plt.xlabel('Time in hours $t$')\n",
    "plt.ylabel('Measurement $C$')\n",
    "plt.title('Treated group')\n",
    "plt.legend()\n",
    "plt.show()"
   ]
  },
  {
   "cell_type": "markdown",
   "metadata": {},
   "source": [
    "# Visualise the probability density functions\n"
   ]
  },
  {
   "cell_type": "markdown",
   "metadata": {},
   "source": []
  },
  {
   "cell_type": "code",
   "execution_count": null,
   "metadata": {},
   "outputs": [],
   "source": [
    "fig = plt.figure(figsize=(10, 8))\n",
    "for t in range(h.max_t + 1):\n",
    "    ax = fig.add_subplot(3, int(np.ceil(h.max_t / 3)), t + 1)\n",
    "\n",
    "    ax = plot_kde_2d(\n",
    "        *h.get_distribution(m=0, t=t),\n",
    "        \"theta1\",\n",
    "        \"theta2\",\n",
    "        xmin=0,\n",
    "        xmax=1,\n",
    "        numx=200,\n",
    "        ymin=0,\n",
    "        ymax=1,\n",
    "        numy=200,\n",
    "        ax=ax,\n",
    "    )\n",
    "    ax.scatter(\n",
    "        [theta1_true],\n",
    "        [theta2_true],\n",
    "        color=\"C1\",\n",
    "        label=r'$\\Theta$ true = {:.3f}, {:.3f}'.format(\n",
    "            theta1_true, theta2_true\n",
    "        ),\n",
    "    )\n",
    "    ax.set_title(f\"Posterior t={t}\")\n",
    "\n",
    "    ax.legend()\n",
    "fig.tight_layout()"
   ]
  }
 ],
 "metadata": {
  "interpreter": {
   "hash": "95fa8d10f2e08061f6c76d763905f78bd3cfa45000683d26ef07ab31975d3cfe"
  },
  "kernelspec": {
   "display_name": "Python 3",
   "language": "python",
   "name": "python3"
  },
  "language_info": {
   "codemirror_mode": {
    "name": "ipython",
    "version": 3
   },
   "file_extension": ".py",
   "mimetype": "text/x-python",
   "name": "python",
   "nbconvert_exporter": "python",
   "pygments_lexer": "ipython3",
   "version": "3.8.8"
  }
 },
 "nbformat": 4,
 "nbformat_minor": 2
}
